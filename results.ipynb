{
 "cells": [
  {
   "attachments": {},
   "cell_type": "markdown",
   "metadata": {},
   "source": [
    "Documentation: https://www.tensorflow.org/tensorboard/dataframe_api.\n",
    "\n",
    "Make sure:\n",
    "1. Logs are uploaded: `tensorboard dev upload --logdir models/text/bert-base-uncased/fake_real/logs --name {name}`\n",
    "2. You know the experiment ID, in url. "
   ]
  },
  {
   "cell_type": "code",
   "execution_count": null,
   "metadata": {},
   "outputs": [],
   "source": []
  },
  {
   "cell_type": "code",
   "execution_count": null,
   "metadata": {},
   "outputs": [
    {
     "ename": "",
     "evalue": "",
     "output_type": "error",
     "traceback": [
      "\u001b[1;31mRunning cells with '/usr/bin/python3.9' requires the ipykernel package.\n",
      "\u001b[1;31mRun the following command to install 'ipykernel' into the Python environment. \n",
      "\u001b[1;31mCommand: '/usr/bin/python3.9 -m pip install ipykernel -U --user --force-reinstall'"
     ]
    }
   ],
   "source": [
    "import pandas as pd\n",
    "from matplotlib import pyplot as plt\n",
    "import seaborn as sns\n",
    "from scipy import stats\n",
    "import tensorboard as tb"
   ]
  },
  {
   "cell_type": "code",
   "execution_count": null,
   "metadata": {},
   "outputs": [],
   "source": [
    "pd"
   ]
  },
  {
   "cell_type": "code",
   "execution_count": 4,
   "metadata": {},
   "outputs": [
    {
     "ename": "ModuleNotFoundError",
     "evalue": "No module named 'code.loader'; 'code' is not a package",
     "output_type": "error",
     "traceback": [
      "\u001b[0;31m---------------------------------------------------------------------------\u001b[0m",
      "\u001b[0;31mModuleNotFoundError\u001b[0m                       Traceback (most recent call last)",
      "\u001b[1;32m/Users/mayla/Downloads/fake_news/results.ipynb Cell 3\u001b[0m in \u001b[0;36m1\n\u001b[0;32m----> <a href='vscode-notebook-cell:/Users/mayla/Downloads/fake_news/results.ipynb#W2sZmlsZQ%3D%3D?line=0'>1</a>\u001b[0m \u001b[39mimport\u001b[39;00m \u001b[39mcode\u001b[39;00m\u001b[39m.\u001b[39;00m\u001b[39mloader\u001b[39;00m\n",
      "\u001b[0;31mModuleNotFoundError\u001b[0m: No module named 'code.loader'; 'code' is not a package"
     ]
    }
   ],
   "source": [
    "import code.loader\n",
    "#loader.load_data"
   ]
  },
  {
   "cell_type": "code",
   "execution_count": 9,
   "metadata": {},
   "outputs": [
    {
     "data": {
      "text/html": [
       "<div>\n",
       "<style scoped>\n",
       "    .dataframe tbody tr th:only-of-type {\n",
       "        vertical-align: middle;\n",
       "    }\n",
       "\n",
       "    .dataframe tbody tr th {\n",
       "        vertical-align: top;\n",
       "    }\n",
       "\n",
       "    .dataframe thead th {\n",
       "        text-align: right;\n",
       "    }\n",
       "</style>\n",
       "<table border=\"1\" class=\"dataframe\">\n",
       "  <thead>\n",
       "    <tr style=\"text-align: right;\">\n",
       "      <th></th>\n",
       "      <th>run</th>\n",
       "      <th>tag</th>\n",
       "      <th>step</th>\n",
       "      <th>value</th>\n",
       "    </tr>\n",
       "  </thead>\n",
       "  <tbody>\n",
       "    <tr>\n",
       "      <th>0</th>\n",
       "      <td>.</td>\n",
       "      <td>eval/accuracy</td>\n",
       "      <td>3</td>\n",
       "      <td>1.000000e+00</td>\n",
       "    </tr>\n",
       "    <tr>\n",
       "      <th>1</th>\n",
       "      <td>.</td>\n",
       "      <td>eval/loss</td>\n",
       "      <td>3</td>\n",
       "      <td>2.026134e-01</td>\n",
       "    </tr>\n",
       "    <tr>\n",
       "      <th>2</th>\n",
       "      <td>.</td>\n",
       "      <td>eval/runtime</td>\n",
       "      <td>3</td>\n",
       "      <td>7.600000e+00</td>\n",
       "    </tr>\n",
       "    <tr>\n",
       "      <th>3</th>\n",
       "      <td>.</td>\n",
       "      <td>eval/samples_per_second</td>\n",
       "      <td>3</td>\n",
       "      <td>1.053000e+00</td>\n",
       "    </tr>\n",
       "    <tr>\n",
       "      <th>4</th>\n",
       "      <td>.</td>\n",
       "      <td>eval/steps_per_second</td>\n",
       "      <td>3</td>\n",
       "      <td>1.320000e-01</td>\n",
       "    </tr>\n",
       "    <tr>\n",
       "      <th>5</th>\n",
       "      <td>.</td>\n",
       "      <td>train/epoch</td>\n",
       "      <td>3</td>\n",
       "      <td>1.000000e+00</td>\n",
       "    </tr>\n",
       "    <tr>\n",
       "      <th>6</th>\n",
       "      <td>.</td>\n",
       "      <td>train/total_flos</td>\n",
       "      <td>3</td>\n",
       "      <td>4.391693e+12</td>\n",
       "    </tr>\n",
       "    <tr>\n",
       "      <th>7</th>\n",
       "      <td>.</td>\n",
       "      <td>train/train_loss</td>\n",
       "      <td>3</td>\n",
       "      <td>2.662190e-01</td>\n",
       "    </tr>\n",
       "    <tr>\n",
       "      <th>8</th>\n",
       "      <td>.</td>\n",
       "      <td>train/train_runtime</td>\n",
       "      <td>3</td>\n",
       "      <td>1.020272e+02</td>\n",
       "    </tr>\n",
       "    <tr>\n",
       "      <th>9</th>\n",
       "      <td>.</td>\n",
       "      <td>train/train_samples_per_second</td>\n",
       "      <td>3</td>\n",
       "      <td>1.670000e-01</td>\n",
       "    </tr>\n",
       "    <tr>\n",
       "      <th>10</th>\n",
       "      <td>.</td>\n",
       "      <td>train/train_steps_per_second</td>\n",
       "      <td>3</td>\n",
       "      <td>2.900000e-02</td>\n",
       "    </tr>\n",
       "  </tbody>\n",
       "</table>\n",
       "</div>"
      ],
      "text/plain": [
       "   run                             tag  step         value\n",
       "0    .                   eval/accuracy     3  1.000000e+00\n",
       "1    .                       eval/loss     3  2.026134e-01\n",
       "2    .                    eval/runtime     3  7.600000e+00\n",
       "3    .         eval/samples_per_second     3  1.053000e+00\n",
       "4    .           eval/steps_per_second     3  1.320000e-01\n",
       "5    .                     train/epoch     3  1.000000e+00\n",
       "6    .                train/total_flos     3  4.391693e+12\n",
       "7    .                train/train_loss     3  2.662190e-01\n",
       "8    .             train/train_runtime     3  1.020272e+02\n",
       "9    .  train/train_samples_per_second     3  1.670000e-01\n",
       "10   .    train/train_steps_per_second     3  2.900000e-02"
      ]
     },
     "execution_count": 9,
     "metadata": {},
     "output_type": "execute_result"
    }
   ],
   "source": [
    "experiment_id = \"uRVZx3rvQdq00w4cNeHJvw\"\n",
    "experiment = tb.data.experimental.ExperimentFromDev(experiment_id)\n",
    "df = experiment.get_scalars()\n",
    "df"
   ]
  },
  {
   "cell_type": "code",
   "execution_count": 11,
   "metadata": {},
   "outputs": [
    {
     "data": {
      "text/html": [
       "<div>\n",
       "<style scoped>\n",
       "    .dataframe tbody tr th:only-of-type {\n",
       "        vertical-align: middle;\n",
       "    }\n",
       "\n",
       "    .dataframe tbody tr th {\n",
       "        vertical-align: top;\n",
       "    }\n",
       "\n",
       "    .dataframe thead th {\n",
       "        text-align: right;\n",
       "    }\n",
       "</style>\n",
       "<table border=\"1\" class=\"dataframe\">\n",
       "  <thead>\n",
       "    <tr style=\"text-align: right;\">\n",
       "      <th></th>\n",
       "      <th>run</th>\n",
       "      <th>step</th>\n",
       "      <th>eval/accuracy</th>\n",
       "      <th>eval/loss</th>\n",
       "      <th>eval/runtime</th>\n",
       "      <th>eval/samples_per_second</th>\n",
       "      <th>eval/steps_per_second</th>\n",
       "      <th>train/epoch</th>\n",
       "      <th>train/total_flos</th>\n",
       "      <th>train/train_loss</th>\n",
       "      <th>train/train_runtime</th>\n",
       "      <th>train/train_samples_per_second</th>\n",
       "      <th>train/train_steps_per_second</th>\n",
       "    </tr>\n",
       "  </thead>\n",
       "  <tbody>\n",
       "    <tr>\n",
       "      <th>0</th>\n",
       "      <td>.</td>\n",
       "      <td>3</td>\n",
       "      <td>1.0</td>\n",
       "      <td>0.202613</td>\n",
       "      <td>7.6</td>\n",
       "      <td>1.053</td>\n",
       "      <td>0.132</td>\n",
       "      <td>1.0</td>\n",
       "      <td>4.391693e+12</td>\n",
       "      <td>0.266219</td>\n",
       "      <td>102.027199</td>\n",
       "      <td>0.167</td>\n",
       "      <td>0.029</td>\n",
       "    </tr>\n",
       "  </tbody>\n",
       "</table>\n",
       "</div>"
      ],
      "text/plain": [
       "  run  step  eval/accuracy  eval/loss  eval/runtime  eval/samples_per_second   \n",
       "0   .     3            1.0   0.202613           7.6                    1.053  \\\n",
       "\n",
       "   eval/steps_per_second  train/epoch  train/total_flos  train/train_loss   \n",
       "0                  0.132          1.0      4.391693e+12          0.266219  \\\n",
       "\n",
       "   train/train_runtime  train/train_samples_per_second   \n",
       "0           102.027199                           0.167  \\\n",
       "\n",
       "   train/train_steps_per_second  \n",
       "0                         0.029  "
      ]
     },
     "execution_count": 11,
     "metadata": {},
     "output_type": "execute_result"
    }
   ],
   "source": [
    "dfw = experiment.get_scalars(pivot=True)\n",
    "dfw"
   ]
  },
  {
   "cell_type": "code",
   "execution_count": 14,
   "metadata": {},
   "outputs": [],
   "source": [
    "csv_path = './tmp/tb_experiment_1.csv'\n",
    "dfw.to_csv(csv_path, index=False)\n",
    "dfw_roundtrip = pd.read_csv(csv_path)\n",
    "pd.testing.assert_frame_equal(dfw_roundtrip, dfw)"
   ]
  },
  {
   "cell_type": "code",
   "execution_count": 16,
   "metadata": {},
   "outputs": [],
   "source": [
    "# Filter the DataFrame to only validation data, which is what the subsequent\n",
    "# analyses and visualization will be focused on.\n",
    "dfw_validation = dfw[dfw.run.str.endswith(\"/validation\")]\n",
    "# Get the optimizer value for each row of the validation DataFrame.\n",
    "optimizer_validation = dfw_validation.run.apply(lambda run: run.split(\",\")[0])\n",
    "\n",
    "plt.figure(figsize=(16, 6))\n",
    "plt.subplot(1, 2, 1)\n",
    "sns.lineplot(data=dfw_validation, x=\"step\", y=\"epoch_accuracy\",\n",
    "             hue=optimizer_validation).set_title(\"accuracy\")\n",
    "plt.subplot(1, 2, 2)\n",
    "sns.lineplot(data=dfw_validation, x=\"step\", y=\"epoch_loss\",\n",
    "             hue=optimizer_validation).set_title(\"loss\")"
   ]
  },
  {
   "cell_type": "code",
   "execution_count": null,
   "metadata": {},
   "outputs": [],
   "source": [
    "adam_min_val_loss = dfw_validation.loc[optimizer_validation==\"adam\", :].groupby(\n",
    "    \"run\", as_index=False).agg({\"epoch_loss\": \"min\"})\n",
    "rmsprop_min_val_loss = dfw_validation.loc[optimizer_validation==\"rmsprop\", :].groupby(\n",
    "    \"run\", as_index=False).agg({\"epoch_loss\": \"min\"})\n",
    "sgd_min_val_loss = dfw_validation.loc[optimizer_validation==\"sgd\", :].groupby(\n",
    "    \"run\", as_index=False).agg({\"epoch_loss\": \"min\"})\n",
    "min_val_loss = pd.concat([adam_min_val_loss, rmsprop_min_val_loss, sgd_min_val_loss])\n",
    "\n",
    "sns.boxplot(data=min_val_loss, y=\"epoch_loss\",\n",
    "            x=min_val_loss.run.apply(lambda run: run.split(\",\")[0]))"
   ]
  },
  {
   "cell_type": "code",
   "execution_count": null,
   "metadata": {},
   "outputs": [],
   "source": [
    "# Perform pairwise comparisons between the minimum validation losses\n",
    "# from the three optimizers.\n",
    "_, p_adam_vs_rmsprop = stats.ttest_ind(\n",
    "    adam_min_val_loss[\"epoch_loss\"],\n",
    "    rmsprop_min_val_loss[\"epoch_loss\"]) \n",
    "_, p_adam_vs_sgd = stats.ttest_ind(\n",
    "    adam_min_val_loss[\"epoch_loss\"],\n",
    "    sgd_min_val_loss[\"epoch_loss\"]) \n",
    "_, p_rmsprop_vs_sgd = stats.ttest_ind(\n",
    "    rmsprop_min_val_loss[\"epoch_loss\"],\n",
    "    sgd_min_val_loss[\"epoch_loss\"]) \n",
    "print(\"adam vs. rmsprop: p = %.4f\" % p_adam_vs_rmsprop)\n",
    "print(\"adam vs. sgd: p = %.4f\" % p_adam_vs_sgd)\n",
    "print(\"rmsprop vs. sgd: p = %.4f\" % p_rmsprop_vs_sgd)"
   ]
  }
 ],
 "metadata": {
  "kernelspec": {
   "display_name": "Python 3",
   "language": "python",
   "name": "python3"
  },
  "language_info": {
   "codemirror_mode": {
    "name": "ipython",
    "version": 3
   },
   "file_extension": ".py",
   "mimetype": "text/x-python",
   "name": "python",
   "nbconvert_exporter": "python",
   "pygments_lexer": "ipython3",
   "version": "3.9.13"
  },
  "orig_nbformat": 4
 },
 "nbformat": 4,
 "nbformat_minor": 2
}
