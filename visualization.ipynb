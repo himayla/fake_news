{
 "cells": [
  {
   "cell_type": "code",
   "execution_count": 1,
   "metadata": {},
   "outputs": [],
   "source": [
    "from collections import defaultdict\n",
    "import json\n",
    "import matplotlib.pyplot as plt\n",
    "import seaborn as sns\n",
    "import numpy as np\n",
    "import pandas as pd\n",
    "import os\n",
    "import re"
   ]
  },
  {
   "cell_type": "code",
   "execution_count": 2,
   "metadata": {},
   "outputs": [],
   "source": [
    "# %pip install Jinja2"
   ]
  },
  {
   "attachments": {},
   "cell_type": "markdown",
   "metadata": {},
   "source": [
    "Visualisation on **validation** set"
   ]
  },
  {
   "cell_type": "code",
   "execution_count": 3,
   "metadata": {},
   "outputs": [],
   "source": [
    "x_labels = {'electra-base-discriminator': 'ELECTRA', 'roberta-base': 'RoBERTa', 'bert-base-uncased': 'BERT', 'distilbert-base-uncased': 'DistilBERT', 'elmo':'ELMo'}\n",
    "hue_labels = {'kaggle_1000': 'Fake and Real News', 'fake_real_1000': 'Fake or Real News', 'liar_1000': 'Liar'}"
   ]
  },
  {
   "cell_type": "code",
   "execution_count": 17,
   "metadata": {},
   "outputs": [
    {
     "name": "stdout",
     "output_type": "stream",
     "text": [
      "0.9411765336990356\n",
      "0.699999988079071\n",
      "0.6086956262588501\n"
     ]
    }
   ],
   "source": [
    "# Plot results baseline\n",
    "path = \"models/text-based\"\n",
    "\n",
    "res = defaultdict(dict)\n",
    "x_values, y_values, hue_values = [], [], []\n",
    "\n",
    "for root, dirs, files in os.walk(path):\n",
    "    mets = []\n",
    "    for file in files:\n",
    "        if file == 'trainer_state.json':\n",
    "            model_name = os.path.basename(os.path.dirname(os.path.dirname(root)))\n",
    "            x_values.append(x_labels[model_name])\n",
    "\n",
    "            dataset = os.path.basename(os.path.dirname(root))\n",
    "            hue_values.append(hue_labels[dataset])\n",
    "\n",
    "            trainer_state = os.path.join(root, file)\n",
    "\n",
    "            with open(trainer_state) as f:\n",
    "                data = json.load(f)\n",
    "\n",
    "            f1 = data[\"log_history\"][1][\"eval_f1\"]\n",
    "\n",
    "            res[x_labels[model_name]][hue_labels[dataset]] = \"{:.2f}\".format(f1)\n",
    "            \n",
    "            y_values.append(float(\"{:.2f}\".format(f1)))\n",
    "\n",
    "        if 'elmo' in os.path.basename(os.path.dirname(root)):\n",
    "            if file.endswith('.json'):\n",
    "                mets.append(file)    \n",
    "\n",
    "    mets_sorted = sorted(mets, key=lambda x: int(x.split(\".\")[0][-1]), reverse=True)\n",
    "\n",
    "    if mets_sorted:\n",
    "        model_name = os.path.basename(os.path.dirname(root))\n",
    "        x_values.append(x_labels[model_name])\n",
    "\n",
    "        dataset = os.path.basename(root)\n",
    "        hue_values.append(hue_labels[dataset])\n",
    "\n",
    "        metrics = mets_sorted[0]\n",
    "        best_mets_file = os.path.join(root, metrics)\n",
    "\n",
    "        with open(best_mets_file) as f:\n",
    "            data = json.load(f)\n",
    "        f1 = data[\"best_validation_f1\"]\n",
    "        print(f1)\n",
    "        res[x_labels[model_name]][hue_labels[dataset]] = \"{:.2f}\".format(f1)            \n",
    "        y_values.append(float(\"{:.2f}\".format(f1)))     \n"
   ]
  },
  {
   "cell_type": "code",
   "execution_count": 18,
   "metadata": {},
   "outputs": [
    {
     "data": {
      "text/plain": [
       "defaultdict(dict,\n",
       "            {'ELMo': {'Fake and Real News': '0.94',\n",
       "              'Fake or Real News': '0.70',\n",
       "              'Liar': '0.61'},\n",
       "             'ELECTRA': {'Fake and Real News': '0.94',\n",
       "              'Fake or Real News': '0.79',\n",
       "              'Liar': '0.67'},\n",
       "             'RoBERTa': {'Fake and Real News': '0.93',\n",
       "              'Fake or Real News': '0.78',\n",
       "              'Liar': '0.67'},\n",
       "             'BERT': {'Fake and Real News': '0.97',\n",
       "              'Fake or Real News': '0.56',\n",
       "              'Liar': '0.68'},\n",
       "             'DistilBERT': {'Fake and Real News': '0.91',\n",
       "              'Fake or Real News': '0.75',\n",
       "              'Liar': '0.67'}})"
      ]
     },
     "execution_count": 18,
     "metadata": {},
     "output_type": "execute_result"
    }
   ],
   "source": [
    "res"
   ]
  },
  {
   "cell_type": "code",
   "execution_count": 19,
   "metadata": {},
   "outputs": [
    {
     "name": "stdout",
     "output_type": "stream",
     "text": [
      "[0.94, 0.7, 0.61, 0.94, 0.79, 0.79, 0.67, 0.67, 0.93, 0.93, 0.78, 0.78, 0.67, 0.67, 0.97, 0.97, 0.56, 0.56, 0.68, 0.68, 0.91, 0.75, 0.75, 0.67, 0.67]\n"
     ]
    }
   ],
   "source": [
    "print(y_values)"
   ]
  },
  {
   "cell_type": "code",
   "execution_count": 20,
   "metadata": {},
   "outputs": [
    {
     "name": "stdout",
     "output_type": "stream",
     "text": [
      "{'BERT', 'DistilBERT', 'ELMo', 'RoBERTa', 'ELECTRA'} {'Fake and Real News', 'Fake or Real News', 'Liar'}\n"
     ]
    }
   ],
   "source": [
    "print(set(x_values), set(hue_values))"
   ]
  },
  {
   "cell_type": "code",
   "execution_count": 21,
   "metadata": {},
   "outputs": [],
   "source": [
    "scores = defaultdict(list)\n",
    "\n",
    "for model_name, score_dict in res.items():\n",
    "    for dataset, score in score_dict.items():\n",
    "        scores[dataset].append(score)\n",
    "\n",
    "\n",
    "df = pd.DataFrame(scores, index=res)\n"
   ]
  },
  {
   "cell_type": "code",
   "execution_count": 22,
   "metadata": {},
   "outputs": [
    {
     "name": "stdout",
     "output_type": "stream",
     "text": [
      "\\begin{tabular}{llll}\n",
      "\\toprule\n",
      " & Fake and Real News & Fake or Real News & Liar \\\\\n",
      "\\midrule\n",
      "ELMo & 0.94 & 0.70 & 0.61 \\\\\n",
      "ELECTRA & 0.94 & 0.79 & 0.67 \\\\\n",
      "RoBERTa & 0.93 & 0.78 & 0.67 \\\\\n",
      "BERT & 0.97 & 0.56 & 0.68 \\\\\n",
      "DistilBERT & 0.91 & 0.75 & 0.67 \\\\\n",
      "\\bottomrule\n",
      "\\end{tabular}\n",
      "\n"
     ]
    }
   ],
   "source": [
    "print(df.to_latex())"
   ]
  },
  {
   "cell_type": "code",
   "execution_count": 23,
   "metadata": {},
   "outputs": [
    {
     "data": {
      "text/plain": [
       "['0.0', '0.1', '0.2', '0.3', '0.4', '0.5', '0.6', '0.7', '0.8', '0.9', '1.0']"
      ]
     },
     "execution_count": 23,
     "metadata": {},
     "output_type": "execute_result"
    }
   ],
   "source": [
    "yticks = [\"{:.1f}\".format(i) for i in list(np.arange(0,1.1,0.1))]\n",
    "yticks"
   ]
  },
  {
   "cell_type": "code",
   "execution_count": 25,
   "metadata": {},
   "outputs": [
    {
     "data": {
      "image/png": "[encoded data removed]",
      "text/plain": [
       "<Figure size 600x400 with 1 Axes>"
      ]
     },
     "metadata": {},
     "output_type": "display_data"
    }
   ],
   "source": [
    "sns.set_style(\"whitegrid\")\n",
    "sns.set_context('paper')\n",
    "\n",
    "plt.figure(figsize=(6, 4))\n",
    "\n",
    "ax = sns.barplot(x=x_values, y=y_values, hue=hue_values, palette=\"deep\")\n",
    "sns.move_legend(ax, \"lower center\", \n",
    "    bbox_to_anchor=(.5, 1), ncol=4, title=None, frameon=False)\n",
    "\n",
    "ax.set_yticks(list(np.arange(0,1.1,0.1)))\n",
    "# plt.xlabel('Models')\n",
    "plt.ylabel('F1')\n",
    "\n",
    "plt.savefig('pipeline/text-based/results/figures/baseline.png')"
   ]
  },
  {
   "cell_type": "code",
   "execution_count": null,
   "metadata": {},
   "outputs": [],
   "source": []
  }
 ],
 "metadata": {
  "kernelspec": {
   "display_name": "Python 3",
   "language": "python",
   "name": "python3"
  },
  "language_info": {
   "codemirror_mode": {
    "name": "ipython",
    "version": 3
   },
   "file_extension": ".py",
   "mimetype": "text/x-python",
   "name": "python",
   "nbconvert_exporter": "python",
   "pygments_lexer": "ipython3",
   "version": "3.9.16"
  },
  "orig_nbformat": 4
 },
 "nbformat": 4,
 "nbformat_minor": 2
}
