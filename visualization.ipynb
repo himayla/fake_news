{
 "cells": [
  {
   "cell_type": "code",
   "execution_count": 1,
   "metadata": {},
   "outputs": [
    {
     "name": "stderr",
     "output_type": "stream",
     "text": [
      "/home/mkersten/.local/lib/python3.9/site-packages/tqdm/auto.py:21: TqdmWarning: IProgress not found. Please update jupyter and ipywidgets. See https://ipywidgets.readthedocs.io/en/stable/user_install.html\n",
      "  from .autonotebook import tqdm as notebook_tqdm\n"
     ]
    }
   ],
   "source": [
    "from collections import defaultdict\n",
    "import evaluate\n",
    "import json\n",
    "import matplotlib.pyplot as plt\n",
    "import seaborn as sns\n",
    "import numpy as np\n",
    "import pandas as pd\n",
    "import os"
   ]
  },
  {
   "cell_type": "code",
   "execution_count": 2,
   "metadata": {},
   "outputs": [],
   "source": [
    "# Labels for charts, tables\n",
    "models = {'electra-base-discriminator': 'ELECTRA', 'google': 'ELECTRA', 'google/electra-base-discriminator': 'ELECTRA', 'roberta-base': 'RoBERTa', 'bert-base-uncased': 'BERT', 'distilbert-base-uncased': 'DistilBERT', 'elmo':'ELMo'}\n",
    "labels = {'accuracy': 'A', 'precision': 'P', 'recall': 'R', 'f1': 'F1'}"
   ]
  },
  {
   "attachments": {},
   "cell_type": "markdown",
   "metadata": {},
   "source": [
    "### Visualization on **text length** distribution"
   ]
  },
  {
   "attachments": {},
   "cell_type": "markdown",
   "metadata": {},
   "source": [
    "##### - Visualize word count distribution after preprocessing "
   ]
  },
  {
   "cell_type": "code",
   "execution_count": 67,
   "metadata": {},
   "outputs": [
    {
     "data": {
      "text/html": [
       "<div>\n",
       "<style scoped>\n",
       "    .dataframe tbody tr th:only-of-type {\n",
       "        vertical-align: middle;\n",
       "    }\n",
       "\n",
       "    .dataframe tbody tr th {\n",
       "        vertical-align: top;\n",
       "    }\n",
       "\n",
       "    .dataframe thead th {\n",
       "        text-align: right;\n",
       "    }\n",
       "</style>\n",
       "<table border=\"1\" class=\"dataframe\">\n",
       "  <thead>\n",
       "    <tr style=\"text-align: right;\">\n",
       "      <th></th>\n",
       "      <th>label</th>\n",
       "      <th>word_count</th>\n",
       "    </tr>\n",
       "    <tr>\n",
       "      <th>ID</th>\n",
       "      <th></th>\n",
       "      <th></th>\n",
       "    </tr>\n",
       "  </thead>\n",
       "  <tbody>\n",
       "    <tr>\n",
       "      <th>1197</th>\n",
       "      <td>1</td>\n",
       "      <td>7</td>\n",
       "    </tr>\n",
       "    <tr>\n",
       "      <th>1034</th>\n",
       "      <td>1</td>\n",
       "      <td>206</td>\n",
       "    </tr>\n",
       "  </tbody>\n",
       "</table>\n",
       "</div>"
      ],
      "text/plain": [
       "      label  word_count\n",
       "ID                     \n",
       "1197      1           7\n",
       "1034      1         206"
      ]
     },
     "metadata": {},
     "output_type": "display_data"
    },
    {
     "name": "stdout",
     "output_type": "stream",
     "text": [
      "(357, 2)\n"
     ]
    }
   ],
   "source": [
    "# Load baseline test data\n",
    "path_to_baseline = \"pipeline/text-based/data/text-based-test.csv\"\n",
    "df_baseline = pd.read_csv(path_to_baseline, usecols=['ID','text', 'label'],index_col='ID', nrows=359).dropna()\n",
    "df_baseline[\"label\"] = df_baseline[\"label\"].map({\"FAKE\": 0, \"REAL\": 1})\n",
    "\n",
    "# 1. Add column with number of words\n",
    "df_baseline['word_count'] = df_baseline['text'].str.split().apply(len)\n",
    "df_baseline.drop('text', axis=1, inplace=True)\n",
    "\n",
    "\n",
    "display(df_baseline.head(2))\n",
    "print(df_baseline.shape)"
   ]
  },
  {
   "cell_type": "code",
   "execution_count": 68,
   "metadata": {},
   "outputs": [
    {
     "data": {
      "text/html": [
       "<div>\n",
       "<style scoped>\n",
       "    .dataframe tbody tr th:only-of-type {\n",
       "        vertical-align: middle;\n",
       "    }\n",
       "\n",
       "    .dataframe tbody tr th {\n",
       "        vertical-align: top;\n",
       "    }\n",
       "\n",
       "    .dataframe thead th {\n",
       "        text-align: right;\n",
       "    }\n",
       "</style>\n",
       "<table border=\"1\" class=\"dataframe\">\n",
       "  <thead>\n",
       "    <tr style=\"text-align: right;\">\n",
       "      <th></th>\n",
       "      <th>label</th>\n",
       "      <th>word_count</th>\n",
       "    </tr>\n",
       "    <tr>\n",
       "      <th>ID</th>\n",
       "      <th></th>\n",
       "      <th></th>\n",
       "    </tr>\n",
       "  </thead>\n",
       "  <tbody>\n",
       "    <tr>\n",
       "      <th>1197</th>\n",
       "      <td>1</td>\n",
       "      <td>17</td>\n",
       "    </tr>\n",
       "    <tr>\n",
       "      <th>9795</th>\n",
       "      <td>0</td>\n",
       "      <td>5</td>\n",
       "    </tr>\n",
       "  </tbody>\n",
       "</table>\n",
       "</div>"
      ],
      "text/plain": [
       "      label  word_count\n",
       "ID                     \n",
       "1197      1          17\n",
       "9795      0           5"
      ]
     },
     "metadata": {},
     "output_type": "display_data"
    },
    {
     "name": "stdout",
     "output_type": "stream",
     "text": [
      "(359, 2)\n"
     ]
    }
   ],
   "source": [
    "# Load test arg-bassd data\n",
    "path_to_arg = \"pipeline/argumentation-based/argumentation structure/dolly/test.csv\"\n",
    "df_arg = pd.read_csv(path_to_arg, index_col='ID', usecols=['ID', 'text', 'label'], nrows=359)\n",
    "df_arg[\"label\"] = df_arg[\"label\"].map({\"FAKE\": 0, \"REAL\": 1})\n",
    "\n",
    "# 1. Add column with number of words\n",
    "df_arg['word_count'] = df_arg['text'].str.split().apply(len)\n",
    "df_arg.drop('text', axis=1, inplace=True)\n",
    "\n",
    "display(df_arg.head(2))\n",
    "print(df_arg.shape)"
   ]
  },
  {
   "cell_type": "code",
   "execution_count": 78,
   "metadata": {},
   "outputs": [
    {
     "data": {
      "text/plain": [
       "[]"
      ]
     },
     "execution_count": 78,
     "metadata": {},
     "output_type": "execute_result"
    },
    {
     "data": {
      "image/png": "[encoded data removed]",
      "text/plain": [
       "<Figure size 640x480 with 2 Axes>"
      ]
     },
     "metadata": {},
     "output_type": "display_data"
    }
   ],
   "source": [
    "# Arg plot distribution lengths\n",
    "fig, ax = plt.subplots(2, 1)\n",
    "# Plot distribution baseline\n",
    "df_baseline['word_count'].plot(kind='hist', bins=20, edgecolor='black', ax=ax[0])\n",
    "# plt.xlim(0, 12000)\n",
    "df_arg['word_count'].plot(kind='hist', bins=20, ax=ax[1], edgecolor='black')\n",
    "ax[0].set_xlim(0, 3000)  # Set the X-axis limits for the first subplot\n",
    "ax[1].set_xlim(0, 3000)  # Set the X-axis limits for the second subplot\n",
    "plt.plot()\n"
   ]
  },
  {
   "attachments": {},
   "cell_type": "markdown",
   "metadata": {},
   "source": [
    "##### - Visualize F1 score depending on word count"
   ]
  },
  {
   "attachments": {},
   "cell_type": "markdown",
   "metadata": {},
   "source": [
    "TODO:\n",
    "1. Kolom met lengte nieuws artikel toevoegen op test set.\n",
    "2. Logische categorieën bedenken voor woorden\n",
    "3. Modellen op baseline en argument component pipeline model runnen op unlabeled test data.\n",
    "4. Predictions FAKE/REAL opslaan per artikel\n",
    "4. 'Handmatig' de F1 berekenen per logisch bedachte categorie lengte woorden stap 2.\n",
    "5. Lineplot of barplot maken met Y F1 accuracy en X lengte woorden."
   ]
  },
  {
   "cell_type": "code",
   "execution_count": 316,
   "metadata": {},
   "outputs": [],
   "source": [
    "# Replace by best model\n",
    "BEST_MODEL = 'distilbert-base-uncased'"
   ]
  },
  {
   "cell_type": "code",
   "execution_count": 317,
   "metadata": {},
   "outputs": [],
   "source": [
    "def get_labels(path_to_labels):\n",
    "    df_labels = pd.read_csv(f\"{path_to_labels}/test.csv\", usecols=['ID', 'text', 'label'], index_col='ID')\n",
    "    df_labels[\"label\"] = df_labels[\"label\"].map({\"FAKE\": 0, \"REAL\": 1})\n",
    "    df_labels['word_count'] = df_labels['text'].str.split().apply(len)\n",
    "    # print(df_labels['word_count'])\n",
    "    df_labels = add_bins(df_labels, 75, 1000)\n",
    "\n",
    "    # df_labels = df_labels[['label', 'bin_id']]\n",
    "    return df_labels\n",
    "\n",
    "def add_bins(df, bin_size, max_bin):\n",
    "    # Put word counts in array\n",
    "    word_count_array = df['word_count'].to_numpy()\n",
    "\n",
    "    # Prepare bins\n",
    "    bins = list(np.arange(min(word_count_array), max_bin, bin_size))\n",
    "    bins.append(np.inf)  # Add one infinity bin for all the outliers\n",
    "    \n",
    "    # Assign bin IDs to texts\n",
    "    df['bin_id'] = pd.cut(df['word_count'], bins=bins, right=True)\n",
    "    \n",
    "    return df"
   ]
  },
  {
   "cell_type": "code",
   "execution_count": 318,
   "metadata": {},
   "outputs": [],
   "source": [
    "metric = evaluate.combine([\"f1\"])\n",
    "\n",
    "def process_predictions(df_labels, path_to_predictions):\n",
    "\n",
    "    # Load predicted labels\n",
    "    df_predictions = pd.read_csv(f\"{path_to_predictions}/{BEST_MODEL}_predictions.csv\", usecols=['ID', 'prediction'], index_col='ID')\n",
    "\n",
    "    # Combine predictions and correct labels\n",
    "    df = pd.concat([df_labels, df_predictions], axis=1)\n",
    "\n",
    "    # Calculate F1 score per bin\n",
    "    grouped_df = df.groupby('bin_id')\n",
    "\n",
    "    f1_per_batch = []\n",
    "    for idx, data in grouped_df:\n",
    "        # print(idx, len(data))\n",
    "        labels = data['label'].values\n",
    "        preds = data['prediction'].values\n",
    "        result = metric.compute(labels, preds)\n",
    "        f1_per_batch.append(result['f1'])\n",
    "    \n",
    "    return f1_per_batch"
   ]
  },
  {
   "cell_type": "code",
   "execution_count": 324,
   "metadata": {},
   "outputs": [],
   "source": [
    "def plot_lines(performance, ax):\n",
    "    fig_labels = [i for i in performance]\n",
    "    y_values = [performance[i] for i in performance]\n",
    "    x_values = np.arange(1, len(y_values[0]) + 1)\n",
    "\n",
    "    for i in range(len(y_values)):\n",
    "        ax.plot(x_values, y_values[i], label=fig_labels[i])\n",
    "    \n",
    "    return ax\n",
    "\n",
    "def get_per_element(path_to_labels, path_to_preds):\n",
    "    performance = {}\n",
    "    df_labels = get_labels(path_to_labels)\n",
    "\n",
    "    for el in ['structure', 'claim', 'evidence']:\n",
    "        f1_scores = process_predictions(df_labels, f\"{path_to_preds}/{el}\")\n",
    "        performance[el] = f1_scores\n",
    "    return performance"
   ]
  },
  {
   "cell_type": "code",
   "execution_count": 330,
   "metadata": {},
   "outputs": [
    {
     "ename": "FileNotFoundError",
     "evalue": "[Errno 2] No such file or directory: 'pipeline/text-based/results/distilbert-base-uncased_predictions.csv'",
     "output_type": "error",
     "traceback": [
      "\u001b[0;31m---------------------------------------------------------------------------\u001b[0m",
      "\u001b[0;31mFileNotFoundError\u001b[0m                         Traceback (most recent call last)",
      "Cell \u001b[0;32mIn[330], line 3\u001b[0m\n\u001b[1;32m      1\u001b[0m baseline_path_to_labels \u001b[39m=\u001b[39m \u001b[39m\"\u001b[39m\u001b[39mpipeline/text-based/data/\u001b[39m\u001b[39m\"\u001b[39m\n\u001b[1;32m      2\u001b[0m baseline_path_to_preds \u001b[39m=\u001b[39m \u001b[39m\"\u001b[39m\u001b[39mpipeline/text-based/results\u001b[39m\u001b[39m\"\u001b[39m\n\u001b[0;32m----> 3\u001b[0m performance_baseline \u001b[39m=\u001b[39m process_predictions(get_labels(baseline_path_to_labels), baseline_path_to_preds)\n\u001b[1;32m      4\u001b[0m \u001b[39mprint\u001b[39m(performance_baseline)\n",
      "Cell \u001b[0;32mIn[318], line 6\u001b[0m, in \u001b[0;36mprocess_predictions\u001b[0;34m(df_labels, path_to_predictions)\u001b[0m\n\u001b[1;32m      3\u001b[0m \u001b[39mdef\u001b[39;00m \u001b[39mprocess_predictions\u001b[39m(df_labels, path_to_predictions):\n\u001b[1;32m      4\u001b[0m \n\u001b[1;32m      5\u001b[0m     \u001b[39m# Load predicted labels\u001b[39;00m\n\u001b[0;32m----> 6\u001b[0m     df_predictions \u001b[39m=\u001b[39m pd\u001b[39m.\u001b[39;49mread_csv(\u001b[39mf\u001b[39;49m\u001b[39m\"\u001b[39;49m\u001b[39m{\u001b[39;49;00mpath_to_predictions\u001b[39m}\u001b[39;49;00m\u001b[39m/\u001b[39;49m\u001b[39m{\u001b[39;49;00mBEST_MODEL\u001b[39m}\u001b[39;49;00m\u001b[39m_predictions.csv\u001b[39;49m\u001b[39m\"\u001b[39;49m, usecols\u001b[39m=\u001b[39;49m[\u001b[39m'\u001b[39;49m\u001b[39mID\u001b[39;49m\u001b[39m'\u001b[39;49m, \u001b[39m'\u001b[39;49m\u001b[39mprediction\u001b[39;49m\u001b[39m'\u001b[39;49m], index_col\u001b[39m=\u001b[39;49m\u001b[39m'\u001b[39;49m\u001b[39mID\u001b[39;49m\u001b[39m'\u001b[39;49m)\n\u001b[1;32m      8\u001b[0m     \u001b[39m# Combine predictions and correct labels\u001b[39;00m\n\u001b[1;32m      9\u001b[0m     df \u001b[39m=\u001b[39m pd\u001b[39m.\u001b[39mconcat([df_labels, df_predictions], axis\u001b[39m=\u001b[39m\u001b[39m1\u001b[39m)\n",
      "File \u001b[0;32m~/.local/lib/python3.9/site-packages/pandas/io/parsers/readers.py:912\u001b[0m, in \u001b[0;36mread_csv\u001b[0;34m(filepath_or_buffer, sep, delimiter, header, names, index_col, usecols, dtype, engine, converters, true_values, false_values, skipinitialspace, skiprows, skipfooter, nrows, na_values, keep_default_na, na_filter, verbose, skip_blank_lines, parse_dates, infer_datetime_format, keep_date_col, date_parser, date_format, dayfirst, cache_dates, iterator, chunksize, compression, thousands, decimal, lineterminator, quotechar, quoting, doublequote, escapechar, comment, encoding, encoding_errors, dialect, on_bad_lines, delim_whitespace, low_memory, memory_map, float_precision, storage_options, dtype_backend)\u001b[0m\n\u001b[1;32m    899\u001b[0m kwds_defaults \u001b[39m=\u001b[39m _refine_defaults_read(\n\u001b[1;32m    900\u001b[0m     dialect,\n\u001b[1;32m    901\u001b[0m     delimiter,\n\u001b[0;32m   (...)\u001b[0m\n\u001b[1;32m    908\u001b[0m     dtype_backend\u001b[39m=\u001b[39mdtype_backend,\n\u001b[1;32m    909\u001b[0m )\n\u001b[1;32m    910\u001b[0m kwds\u001b[39m.\u001b[39mupdate(kwds_defaults)\n\u001b[0;32m--> 912\u001b[0m \u001b[39mreturn\u001b[39;00m _read(filepath_or_buffer, kwds)\n",
      "File \u001b[0;32m~/.local/lib/python3.9/site-packages/pandas/io/parsers/readers.py:577\u001b[0m, in \u001b[0;36m_read\u001b[0;34m(filepath_or_buffer, kwds)\u001b[0m\n\u001b[1;32m    574\u001b[0m _validate_names(kwds\u001b[39m.\u001b[39mget(\u001b[39m\"\u001b[39m\u001b[39mnames\u001b[39m\u001b[39m\"\u001b[39m, \u001b[39mNone\u001b[39;00m))\n\u001b[1;32m    576\u001b[0m \u001b[39m# Create the parser.\u001b[39;00m\n\u001b[0;32m--> 577\u001b[0m parser \u001b[39m=\u001b[39m TextFileReader(filepath_or_buffer, \u001b[39m*\u001b[39;49m\u001b[39m*\u001b[39;49mkwds)\n\u001b[1;32m    579\u001b[0m \u001b[39mif\u001b[39;00m chunksize \u001b[39mor\u001b[39;00m iterator:\n\u001b[1;32m    580\u001b[0m     \u001b[39mreturn\u001b[39;00m parser\n",
      "File \u001b[0;32m~/.local/lib/python3.9/site-packages/pandas/io/parsers/readers.py:1407\u001b[0m, in \u001b[0;36mTextFileReader.__init__\u001b[0;34m(self, f, engine, **kwds)\u001b[0m\n\u001b[1;32m   1404\u001b[0m     \u001b[39mself\u001b[39m\u001b[39m.\u001b[39moptions[\u001b[39m\"\u001b[39m\u001b[39mhas_index_names\u001b[39m\u001b[39m\"\u001b[39m] \u001b[39m=\u001b[39m kwds[\u001b[39m\"\u001b[39m\u001b[39mhas_index_names\u001b[39m\u001b[39m\"\u001b[39m]\n\u001b[1;32m   1406\u001b[0m \u001b[39mself\u001b[39m\u001b[39m.\u001b[39mhandles: IOHandles \u001b[39m|\u001b[39m \u001b[39mNone\u001b[39;00m \u001b[39m=\u001b[39m \u001b[39mNone\u001b[39;00m\n\u001b[0;32m-> 1407\u001b[0m \u001b[39mself\u001b[39m\u001b[39m.\u001b[39m_engine \u001b[39m=\u001b[39m \u001b[39mself\u001b[39;49m\u001b[39m.\u001b[39;49m_make_engine(f, \u001b[39mself\u001b[39;49m\u001b[39m.\u001b[39;49mengine)\n",
      "File \u001b[0;32m~/.local/lib/python3.9/site-packages/pandas/io/parsers/readers.py:1661\u001b[0m, in \u001b[0;36mTextFileReader._make_engine\u001b[0;34m(self, f, engine)\u001b[0m\n\u001b[1;32m   1659\u001b[0m     \u001b[39mif\u001b[39;00m \u001b[39m\"\u001b[39m\u001b[39mb\u001b[39m\u001b[39m\"\u001b[39m \u001b[39mnot\u001b[39;00m \u001b[39min\u001b[39;00m mode:\n\u001b[1;32m   1660\u001b[0m         mode \u001b[39m+\u001b[39m\u001b[39m=\u001b[39m \u001b[39m\"\u001b[39m\u001b[39mb\u001b[39m\u001b[39m\"\u001b[39m\n\u001b[0;32m-> 1661\u001b[0m \u001b[39mself\u001b[39m\u001b[39m.\u001b[39mhandles \u001b[39m=\u001b[39m get_handle(\n\u001b[1;32m   1662\u001b[0m     f,\n\u001b[1;32m   1663\u001b[0m     mode,\n\u001b[1;32m   1664\u001b[0m     encoding\u001b[39m=\u001b[39;49m\u001b[39mself\u001b[39;49m\u001b[39m.\u001b[39;49moptions\u001b[39m.\u001b[39;49mget(\u001b[39m\"\u001b[39;49m\u001b[39mencoding\u001b[39;49m\u001b[39m\"\u001b[39;49m, \u001b[39mNone\u001b[39;49;00m),\n\u001b[1;32m   1665\u001b[0m     compression\u001b[39m=\u001b[39;49m\u001b[39mself\u001b[39;49m\u001b[39m.\u001b[39;49moptions\u001b[39m.\u001b[39;49mget(\u001b[39m\"\u001b[39;49m\u001b[39mcompression\u001b[39;49m\u001b[39m\"\u001b[39;49m, \u001b[39mNone\u001b[39;49;00m),\n\u001b[1;32m   1666\u001b[0m     memory_map\u001b[39m=\u001b[39;49m\u001b[39mself\u001b[39;49m\u001b[39m.\u001b[39;49moptions\u001b[39m.\u001b[39;49mget(\u001b[39m\"\u001b[39;49m\u001b[39mmemory_map\u001b[39;49m\u001b[39m\"\u001b[39;49m, \u001b[39mFalse\u001b[39;49;00m),\n\u001b[1;32m   1667\u001b[0m     is_text\u001b[39m=\u001b[39;49mis_text,\n\u001b[1;32m   1668\u001b[0m     errors\u001b[39m=\u001b[39;49m\u001b[39mself\u001b[39;49m\u001b[39m.\u001b[39;49moptions\u001b[39m.\u001b[39;49mget(\u001b[39m\"\u001b[39;49m\u001b[39mencoding_errors\u001b[39;49m\u001b[39m\"\u001b[39;49m, \u001b[39m\"\u001b[39;49m\u001b[39mstrict\u001b[39;49m\u001b[39m\"\u001b[39;49m),\n\u001b[1;32m   1669\u001b[0m     storage_options\u001b[39m=\u001b[39;49m\u001b[39mself\u001b[39;49m\u001b[39m.\u001b[39;49moptions\u001b[39m.\u001b[39;49mget(\u001b[39m\"\u001b[39;49m\u001b[39mstorage_options\u001b[39;49m\u001b[39m\"\u001b[39;49m, \u001b[39mNone\u001b[39;49;00m),\n\u001b[1;32m   1670\u001b[0m )\n\u001b[1;32m   1671\u001b[0m \u001b[39massert\u001b[39;00m \u001b[39mself\u001b[39m\u001b[39m.\u001b[39mhandles \u001b[39mis\u001b[39;00m \u001b[39mnot\u001b[39;00m \u001b[39mNone\u001b[39;00m\n\u001b[1;32m   1672\u001b[0m f \u001b[39m=\u001b[39m \u001b[39mself\u001b[39m\u001b[39m.\u001b[39mhandles\u001b[39m.\u001b[39mhandle\n",
      "File \u001b[0;32m~/.local/lib/python3.9/site-packages/pandas/io/common.py:859\u001b[0m, in \u001b[0;36mget_handle\u001b[0;34m(path_or_buf, mode, encoding, compression, memory_map, is_text, errors, storage_options)\u001b[0m\n\u001b[1;32m    854\u001b[0m \u001b[39melif\u001b[39;00m \u001b[39misinstance\u001b[39m(handle, \u001b[39mstr\u001b[39m):\n\u001b[1;32m    855\u001b[0m     \u001b[39m# Check whether the filename is to be opened in binary mode.\u001b[39;00m\n\u001b[1;32m    856\u001b[0m     \u001b[39m# Binary mode does not support 'encoding' and 'newline'.\u001b[39;00m\n\u001b[1;32m    857\u001b[0m     \u001b[39mif\u001b[39;00m ioargs\u001b[39m.\u001b[39mencoding \u001b[39mand\u001b[39;00m \u001b[39m\"\u001b[39m\u001b[39mb\u001b[39m\u001b[39m\"\u001b[39m \u001b[39mnot\u001b[39;00m \u001b[39min\u001b[39;00m ioargs\u001b[39m.\u001b[39mmode:\n\u001b[1;32m    858\u001b[0m         \u001b[39m# Encoding\u001b[39;00m\n\u001b[0;32m--> 859\u001b[0m         handle \u001b[39m=\u001b[39m \u001b[39mopen\u001b[39;49m(\n\u001b[1;32m    860\u001b[0m             handle,\n\u001b[1;32m    861\u001b[0m             ioargs\u001b[39m.\u001b[39;49mmode,\n\u001b[1;32m    862\u001b[0m             encoding\u001b[39m=\u001b[39;49mioargs\u001b[39m.\u001b[39;49mencoding,\n\u001b[1;32m    863\u001b[0m             errors\u001b[39m=\u001b[39;49merrors,\n\u001b[1;32m    864\u001b[0m             newline\u001b[39m=\u001b[39;49m\u001b[39m\"\u001b[39;49m\u001b[39m\"\u001b[39;49m,\n\u001b[1;32m    865\u001b[0m         )\n\u001b[1;32m    866\u001b[0m     \u001b[39melse\u001b[39;00m:\n\u001b[1;32m    867\u001b[0m         \u001b[39m# Binary mode\u001b[39;00m\n\u001b[1;32m    868\u001b[0m         handle \u001b[39m=\u001b[39m \u001b[39mopen\u001b[39m(handle, ioargs\u001b[39m.\u001b[39mmode)\n",
      "\u001b[0;31mFileNotFoundError\u001b[0m: [Errno 2] No such file or directory: 'pipeline/text-based/results/distilbert-base-uncased_predictions.csv'"
     ]
    }
   ],
   "source": [
    "baseline_path_to_labels = \"pipeline/text-based/data/\"\n",
    "baseline_path_to_preds = \"pipeline/text-based/results\"\n",
    "performance_baseline = process_predictions(get_labels(baseline_path_to_labels), baseline_path_to_preds)\n",
    "print(performance_baseline)\n"
   ]
  },
  {
   "cell_type": "code",
   "execution_count": 325,
   "metadata": {},
   "outputs": [
    {
     "data": {
      "image/png": "[encoded data removed]",
      "text/plain": [
       "<Figure size 640x480 with 2 Axes>"
      ]
     },
     "metadata": {},
     "output_type": "display_data"
    }
   ],
   "source": [
    "path_to_labels = \"pipeline/argumentation-based/argumentation structure\"\n",
    "path_to_preds = \"pipeline/argumentation-based/results\"\n",
    "\n",
    "performance_margot = get_per_element(f\"{path_to_labels}/margot\", f\"{path_to_preds}/margot/\")\n",
    "performance_dolly = get_per_element(f\"{path_to_labels}/dolly\", f\"{path_to_preds}/dolly/\")\n",
    "\n",
    "with open('perf_dolly.json', 'w') as json_file:\n",
    "    json.dump(performance_dolly, json_file, indent=4)\n",
    "\n",
    "fig, ax = plt.subplots(1, 2)\n",
    "ax[0] = plot_lines(performance_dolly, ax[0])\n",
    "ax[1] = plot_lines(performance_margot, ax[1])"
   ]
  },
  {
   "cell_type": "code",
   "execution_count": 273,
   "metadata": {},
   "outputs": [
    {
     "name": "stdout",
     "output_type": "stream",
     "text": [
      "evidence\n",
      "claim\n",
      "structure\n"
     ]
    },
    {
     "data": {
      "image/png": "[encoded data removed]",
      "text/plain": [
       "<Figure size 640x480 with 1 Axes>"
      ]
     },
     "metadata": {},
     "output_type": "display_data"
    },
    {
     "name": "stdout",
     "output_type": "stream",
     "text": [
      "{'evidence': [0.6920415224913494, 1.0, 0.6666666666666667, 0.8], 'claim': [0.6894197952218429, 0.9333333333333333, 0.7692307692307692, 0.7375], 'structure': [0.6739130434782609, 0.9333333333333333, 0.7142857142857143, 0.7703703703703704]}\n"
     ]
    }
   ],
   "source": [
    "path_to_dolly = \"pipeline/argumentation-based/argumentation structure/dolly/test.csv\"\n",
    "df_labels = get_labels(path_to_dolly)\n",
    "\n",
    "path_to_dolly_results = \"pipeline/argumentation-based/results/dolly\"\n",
    "performance_dolly = process_predictions(df_labels, path_to_dolly_results)"
   ]
  },
  {
   "cell_type": "code",
   "execution_count": null,
   "metadata": {},
   "outputs": [],
   "source": []
  },
  {
   "cell_type": "code",
   "execution_count": null,
   "metadata": {},
   "outputs": [],
   "source": [
    "# # Predict MARGOT\n",
    "# path_to_margot = \"pipeline/argumentation-based/argumentation structure/margot/test.csv\"\n",
    "# path_to_margot_results = \"pipeline/argumentation-based/results/margot\"\n",
    "\n",
    "# metrics = evaluate.combine([\"f1\"])\n",
    "\n",
    "\n",
    "\n",
    "# performance = defaultdict(dict)\n",
    "# for el in os.listdir(path_to_margot_results):\n",
    "#     for f in os.listdir(f\"{path_to_margot_results}/{el}\"):\n",
    "#         if f.endswith('.csv'):\n",
    "#             name = models[' '.join(f.split('_')[:1])]\n",
    "\n",
    "#             # Load predicted labels\n",
    "#             df_predictions = pd.read_csv(f\"{path_to_margot_results}/{el}/{f}\", usecols=['ID', 'prediction'], index_col='ID')\n",
    "\n",
    "#             # Combine predictions and correct labels\n",
    "#             df = pd.concat([df_labels, df_predictions], axis=1)\n",
    "\n",
    "#             grouped_df = df.groupby('bin_id')\n",
    "#             performance_per_batch = {}\n",
    "#             for idx, data in grouped_df:\n",
    "#                 print(idx, len(data))\n",
    "#                 results = metrics.compute(predictions=data['prediction'].values, references=data['label'].values)\n",
    "\n",
    "#                 performance_per_batch[idx] = results['f1']\n",
    "#             performance[el][name] = performance_per_batch\n",
    "\n"
   ]
  },
  {
   "attachments": {},
   "cell_type": "markdown",
   "metadata": {},
   "source": [
    "### Visualization on **validation** set"
   ]
  },
  {
   "cell_type": "code",
   "execution_count": null,
   "metadata": {},
   "outputs": [],
   "source": [
    "MODE = 'argumentation-based'\n",
    "if MODE == 'argumentation-based':\n",
    "    TOOL = 'margot'\n",
    "    ELEMENT = 'structure'\n",
    "\n",
    "    input_path = f\"models/{MODE}/{TOOL}/{ELEMENT}/training/\"\n",
    "    output_path = f'pipeline/{MODE}/results/figures/{TOOL}_{ELEMENT}.png'\n",
    "else:\n",
    "    input_path = f\"models/{MODE}/training/\"\n",
    "    output_path = f'pipeline/{MODE}/results/figures/baseline.png'"
   ]
  },
  {
   "cell_type": "code",
   "execution_count": null,
   "metadata": {},
   "outputs": [],
   "source": [
    "# Plot results baseline\n",
    "\n",
    "res = defaultdict(dict)\n",
    "x_values, y_values, hue_values = [], [], []\n",
    "\n",
    "for root, dirs, files in os.walk(input_path):\n",
    "    mets = []\n",
    "    for file in files:\n",
    "\n",
    "        # Look for trainer_state.json files for all models except for ELMo \n",
    "        if file == 'trainer_state.json':\n",
    "            # PREPARE FOR TABLE\n",
    "            metrics = {}\n",
    "\n",
    "            model_name = os.path.basename(os.path.dirname(os.path.dirname(root)))\n",
    "            dataset = os.path.basename(os.path.dirname(root))\n",
    "            trainer_state = os.path.join(root, file)\n",
    "\n",
    "            with open(trainer_state) as f:\n",
    "                data = json.load(f)\n",
    "\n",
    "            f1 = data[\"log_history\"][1][\"eval_f1\"]\n",
    "            accuracy = data[\"log_history\"][1][\"eval_accuracy\"]\n",
    "            recall = data[\"log_history\"][1][\"eval_recall\"]\n",
    "            precision = data[\"log_history\"][1][\"eval_precision\"]\n",
    "\n",
    "            metrics['F1'] = \"{:.2f}\".format(f1)\n",
    "            metrics['Accuracy'] = \"{:.2f}\".format(accuracy)\n",
    "            metrics['Recall'] = \"{:.2f}\".format(recall)\n",
    "            metrics['Precision'] = \"{:.2f}\".format(precision)\n",
    "\n",
    "            res[models[model_name]][datasets[dataset]] = metrics\n",
    "\n",
    "            # PREPARE FOR CHART \n",
    "            x_values.append(models[model_name])\n",
    "            hue_values.append(datasets[dataset])\n",
    "            y_values.append(float(\"{:.2f}\".format(f1)))\n",
    "\n",
    "        # Prepare doing the same for ELMo\n",
    "        if 'elmo' in os.path.dirname(root):\n",
    "            if file.endswith('.json'):\n",
    "                mets.append(file)    \n",
    "    \n",
    "    # All ELMo from here\n",
    "    mets_sorted = sorted(mets, key=lambda x: int(x.split(\".\")[0][-1]), reverse=True) # Only keep best EPOCH\n",
    "\n",
    "    if mets_sorted:\n",
    "        metrics = {}\n",
    "        model_name = os.path.basename(os.path.dirname(root))\n",
    "        dataset = os.path.basename(root)\n",
    "        best_metric = mets_sorted[0]\n",
    "        best_mets_file = os.path.join(root, best_metric)\n",
    "\n",
    "        with open(best_mets_file) as f:\n",
    "            data = json.load(f)\n",
    "        \n",
    "        f1 = data[\"best_validation_f1\"]\n",
    "        accuracy = data[\"best_validation_accuracy\"]\n",
    "        precision = data[\"best_validation_precision\"]\n",
    "        recall = data[\"best_validation_recall\"]\n",
    "\n",
    "        metrics['Accuracy'] = \"{:.2f}\".format(accuracy)\n",
    "        metrics['Precision'] = \"{:.2f}\".format(precision)\n",
    "        metrics['Recall'] = \"{:.2f}\".format(recall)\n",
    "        metrics['F1'] = \"{:.2f}\".format(f1)\n",
    "\n",
    "        \n",
    "        res[models[model_name]][datasets[dataset]] = metrics\n",
    "\n",
    "        # PREPARE FOR CHART\n",
    "        x_values.append(models[model_name])\n",
    "        hue_values.append(datasets[dataset])   \n",
    "        y_values.append(float(\"{:.2f}\".format(f1)))"
   ]
  },
  {
   "cell_type": "code",
   "execution_count": null,
   "metadata": {},
   "outputs": [],
   "source": [
    "res"
   ]
  },
  {
   "cell_type": "code",
   "execution_count": null,
   "metadata": {},
   "outputs": [],
   "source": [
    "# F1 table only\n",
    "index = res.keys()\n",
    "values = []\n",
    "cols = []\n",
    "\n",
    "for model_name, d in res.items():\n",
    "    tmp_cols = []\n",
    "\n",
    "    for dataset, scores in d.items():\n",
    "        for metric, score in scores.items():\n",
    "            if metric == 'F1':\n",
    "                values.append(score)\n",
    "                tmp_cols.append((dataset, metric))\n",
    "\n",
    "cols.append(tmp_cols)\n",
    "\n",
    "# Flatten columns\n",
    "cols = sum(cols, [])\n",
    "\n",
    "multi_index = pd.MultiIndex.from_tuples(cols)\n",
    "\n",
    "# Reshape the values\n",
    "reshaped_values = np.array(values).reshape(-1, len(index))  \n",
    "\n",
    "df = pd.DataFrame(reshaped_values, index=multi_index, columns=index)\n",
    "df = df.T\n",
    "\n",
    "df = df.reindex(index=['BERT', 'RoBERTa', 'DistilBERT', 'ELECTRA', 'ELMo'])\n",
    "\n",
    "print(df.to_latex())"
   ]
  },
  {
   "cell_type": "code",
   "execution_count": null,
   "metadata": {},
   "outputs": [],
   "source": [
    "# Full table (A, P, R, F1)\n",
    "# Create table with 2 level index (dataset, metric), columns are the models, values are the scores\n",
    "reformed = []\n",
    "for k, v in res.items():\n",
    "    x = {(outerKey, innerKey): values for outerKey, innerDict in v.items() for innerKey, values in innerDict.items()}\n",
    "    y = pd.DataFrame(x, index=[k])\n",
    "    reformed.append(y)\n",
    "\n",
    "df = pd.concat(reformed)\n",
    "df = df.reindex(index=['BERT', 'RoBERTa', 'DistilBERT', 'ELECTRA', 'ELMo'])\n",
    "df\n"
   ]
  },
  {
   "cell_type": "code",
   "execution_count": null,
   "metadata": {},
   "outputs": [],
   "source": [
    "# For thesis\n",
    "print(df.to_latex())"
   ]
  },
  {
   "cell_type": "code",
   "execution_count": null,
   "metadata": {},
   "outputs": [],
   "source": [
    "sns.set_style(\"whitegrid\")\n",
    "sns.set_context('paper')\n",
    "\n",
    "plt.figure(figsize=(6, 4))\n",
    "\n",
    "ax = sns.barplot(x=x_values, y=y_values, hue=hue_values, palette=\"deep\")\n",
    "sns.move_legend(ax, \"lower center\", \n",
    "    bbox_to_anchor=(.5, 1), ncol=4, title=None, frameon=False)\n",
    "\n",
    "ax.set_yticks(list(np.arange(0,1.1,0.1)))\n",
    "plt.ylabel('F1')\n",
    "\n",
    "plt.savefig(f\"{output_path}.png\")"
   ]
  },
  {
   "attachments": {},
   "cell_type": "markdown",
   "metadata": {},
   "source": [
    "### Visualisation on **test** set"
   ]
  },
  {
   "attachments": {},
   "cell_type": "markdown",
   "metadata": {},
   "source": [
    "#### Baseline pipeline"
   ]
  },
  {
   "cell_type": "code",
   "execution_count": null,
   "metadata": {},
   "outputs": [],
   "source": [
    "# Concat inference results\n",
    "path_to_txt_json = \"pipeline/text-based/results/json\"\n",
    "\n",
    "performance = {}\n",
    "for file_name in os.listdir(path_to_txt_json):\n",
    "    path = os.path.join(path_to_txt_json, file_name)\n",
    "    if file_name != '.ipynb_checkpoints':\n",
    "        with open(path) as f:\n",
    "            json_results = json.load(f)\n",
    "            performance.update(json_results)"
   ]
  },
  {
   "cell_type": "code",
   "execution_count": null,
   "metadata": {},
   "outputs": [],
   "source": [
    "# F1 table only\n",
    "idx, values, cols = [], [], []\n",
    "\n",
    "for model, scores in performance.items():\n",
    "    for metric, score in scores.items():\n",
    "        if metric == 'f1':\n",
    "            idx.append(models[model])\n",
    "            values.append(score)\n",
    "            cols.append(('baseline', metric))\n",
    "\n",
    "multi_columns = pd.MultiIndex.from_tuples([('baseline', 'f1')])\n",
    "multi_columns\n",
    "\n",
    "df = pd.DataFrame(values, index=idx, columns=multi_columns)\n",
    "df"
   ]
  },
  {
   "cell_type": "code",
   "execution_count": null,
   "metadata": {},
   "outputs": [],
   "source": [
    "# Full table (A, P, R, F1)\n",
    "# Create table with 2 level index (dataset, metric), columns are the models, values are the scores\n",
    "\n",
    "idx = [models[i] for i in performance]\n",
    "\n",
    "columns = [[('baseline', j) for j in performance[i]] for i in performance]\n",
    "\n",
    "values = [[\"{:.2f}\".format(performance[i][j]) for j in performance[i]] for i in performance]\n",
    "\n",
    "multi_columns = pd.MultiIndex.from_tuples(columns[0])\n",
    "reshaped_values = np.array(values)#.reshape(len(index), -1)  \n",
    "df = pd.DataFrame(reshaped_values, index=idx, columns=multi_columns)\n",
    "\n",
    "display(df)\n",
    "print(df.to_latex())"
   ]
  },
  {
   "attachments": {},
   "cell_type": "markdown",
   "metadata": {},
   "source": [
    "#### Argumentation-based pipeline"
   ]
  },
  {
   "cell_type": "code",
   "execution_count": null,
   "metadata": {},
   "outputs": [],
   "source": [
    "# Concat inference results\n",
    "path_to_dolly = \"pipeline/argumentation-based/results/dolly\"\n",
    "\n",
    "performance_dolly = {}\n",
    "for component_name in os.listdir(path_to_dolly):\n",
    "    path_to_json = f\"{path_to_dolly}/{component_name}/json\"\n",
    "    for f in os.listdir(path_to_json):\n",
    "        path = os.path.join(path_to_json, f)\n",
    "        with open(path) as f:\n",
    "            json_results = json.load(f)\n",
    "            performance_dolly[component_name] = json_results\n",
    "print(performance_dolly)"
   ]
  },
  {
   "cell_type": "code",
   "execution_count": null,
   "metadata": {},
   "outputs": [],
   "source": [
    "path_to_margot = \"pipeline/argumentation-based/results/margot\"\n",
    "\n",
    "performance_margot = {}\n",
    "for component_name in os.listdir(path_to_dolly):\n",
    "    path_to_json = f\"{path_to_margot}/{file_name}/json\"\n",
    "    for f in os.listdir(path_to_json):\n",
    "        path = os.path.join(path_to_json, f)\n",
    "        with open(path) as f:\n",
    "            json_results = json.load(f)\n",
    "            performance_margot[component_name] = json_results\n",
    "print(performance_margot)"
   ]
  },
  {
   "cell_type": "code",
   "execution_count": null,
   "metadata": {},
   "outputs": [],
   "source": [
    "# Dolly: Full table (A, P, R, F1)\n",
    "cols, values = [], []\n",
    "for i in performance_dolly:\n",
    "    tmp_col, idx = [], []\n",
    "    for k, v in performance_dolly[i].items():\n",
    "\n",
    "        idx.append(models[k])\n",
    "\n",
    "        metric = [(i,labels[j]) for j in performance_dolly[i][k]]\n",
    "        value = [(performance_dolly[i][k][j]) for j in performance_dolly[i][k]]\n",
    "        for a, b in performance_dolly[i][k].items():\n",
    "            value = \"{:.2f}\".format(b)\n",
    "            values.append(value)\n",
    "\n",
    "    cols.append(metric)\n",
    "\n",
    "cols = sum(cols, [])\n",
    "multi_columns = pd.MultiIndex.from_tuples(cols, names=['component', 'metric'])\n",
    "reshaped_values = np.array(values).reshape(-1, 12)  \n",
    "df_dolly = pd.DataFrame(reshaped_values, index=idx, columns=multi_columns)\n",
    "display(df_dolly)\n",
    "print(df_dolly.to_latex())"
   ]
  },
  {
   "cell_type": "code",
   "execution_count": null,
   "metadata": {},
   "outputs": [],
   "source": [
    "# MARGOT: Full table (A, P, R, F1)\n",
    "cols, values = [], []\n",
    "for i in performance_margot:\n",
    "    tmp_col, idx = [], []\n",
    "    for k, v in performance_margot[i].items():\n",
    "\n",
    "        idx.append(models[k])\n",
    "\n",
    "        metric = [(i,labels[j]) for j in performance_margot[i][k]]\n",
    "        value = [(performance_margot[i][k][j]) for j in performance_margot[i][k]]\n",
    "        for a, b in performance_margot[i][k].items():\n",
    "            value = \"{:.2f}\".format(b)\n",
    "            values.append(value)\n",
    "\n",
    "    cols.append(metric)\n",
    "\n",
    "cols = sum(cols, [])\n",
    "multi_columns = pd.MultiIndex.from_tuples(cols, names=['component', 'metric'])\n",
    "reshaped_values = np.array(values).reshape(-1, 12)  \n",
    "df_margot = pd.DataFrame(reshaped_values, index=idx, columns=multi_columns)\n",
    "display(df_margot)\n",
    "print(df_margot.to_latex())"
   ]
  },
  {
   "cell_type": "code",
   "execution_count": null,
   "metadata": {},
   "outputs": [],
   "source": [
    "combined = pd.concat([df_dolly, df_margot], axis=1)\n",
    "display(combined.head(5))\n",
    "print(combined.to_latex())"
   ]
  },
  {
   "cell_type": "code",
   "execution_count": null,
   "metadata": {},
   "outputs": [],
   "source": [
    "# Full table (A, P, R, F1)\n",
    "# Create table with 2 level index (dataset, metric), columns are the models, values are the scores\n",
    "\n",
    "# columns = [[(i, models[j]) for j in performance[i]] for i in performance]\n",
    "# print(columns)\n",
    "cols, values = [], []\n",
    "for i in performance:\n",
    "    tmp_col, idx = [], []\n",
    "    for k, v in performance[i].items():\n",
    "\n",
    "        idx.append(models[k])\n",
    "        metric = [(i,j) for j in performance[i][k]]\n",
    "        value = [(performance[i][k][j]) for j in performance[i][k]]\n",
    "        for a, b in performance[i][k].items():\n",
    "            value = \"{:.2f}\".format(b)\n",
    "            values.append(value)\n",
    "\n",
    "    cols.append(metric)\n",
    "        \n",
    "        # print(performance[i][k])\n",
    "\n",
    "        # for a, b in performance[i][k].items():\n",
    "\n",
    "\n",
    "    # cols.append(list(columns.values()))\n",
    "    # cols.append(tmp_col)\n",
    "print(cols)\n",
    "cols = sum(cols, [])\n",
    "multi_columns = pd.MultiIndex.from_tuples(cols)\n",
    "reshaped_values = np.array(values).reshape(-1, 12)  \n",
    "print(reshaped_values.shape)\n",
    "df = pd.DataFrame(reshaped_values, index=idx, columns=multi_columns)\n",
    "# # # # # np.random.rand(3,12)\n",
    "display(df)\n",
    "print(df.to_latex())"
   ]
  },
  {
   "cell_type": "code",
   "execution_count": null,
   "metadata": {},
   "outputs": [],
   "source": [
    "# For chart\n",
    "x_values, y_values, hue_values = [], [], [] # For chart\n",
    "\n",
    "for model_name, d in performance.items():\n",
    "    for dataset, scores in d.items():\n",
    "        x_values.append(models[model_name])\n",
    "        hue_values.append(datasets[dataset])\n",
    "        y_values.append(d[dataset]['f1'])"
   ]
  },
  {
   "cell_type": "code",
   "execution_count": null,
   "metadata": {},
   "outputs": [],
   "source": [
    "# Chart\n",
    "sns.set_style(\"whitegrid\")\n",
    "sns.set_context('paper')\n",
    "\n",
    "plt.figure(figsize=(6, 4))\n",
    "\n",
    "ax = sns.barplot(x=x_values, y=y_values, hue=hue_values, palette=\"deep\")\n",
    "sns.move_legend(ax, \"lower center\", \n",
    "    bbox_to_anchor=(.5, 1), ncol=4, title=None, frameon=False)\n",
    "\n",
    "ax.set_yticks(list(np.arange(0,1.1,0.1)))\n",
    "plt.ylabel('F1')\n",
    "\n",
    "plt.savefig(output_path)"
   ]
  }
 ],
 "metadata": {
  "kernelspec": {
   "display_name": "Python 3",
   "language": "python",
   "name": "python3"
  },
  "language_info": {
   "codemirror_mode": {
    "name": "ipython",
    "version": 3
   },
   "file_extension": ".py",
   "mimetype": "text/x-python",
   "name": "python",
   "nbconvert_exporter": "python",
   "pygments_lexer": "ipython3",
   "version": "3.9.16"
  },
  "orig_nbformat": 4
 },
 "nbformat": 4,
 "nbformat_minor": 2
}
