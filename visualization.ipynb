{
 "cells": [
  {
   "cell_type": "code",
   "execution_count": 1,
   "metadata": {},
   "outputs": [
    {
     "name": "stderr",
     "output_type": "stream",
     "text": [
      "/home/mkersten/.local/lib/python3.9/site-packages/tqdm/auto.py:21: TqdmWarning: IProgress not found. Please update jupyter and ipywidgets. See https://ipywidgets.readthedocs.io/en/stable/user_install.html\n",
      "  from .autonotebook import tqdm as notebook_tqdm\n"
     ]
    }
   ],
   "source": [
    "from collections import defaultdict\n",
    "import evaluate\n",
    "import json\n",
    "import matplotlib.pyplot as plt\n",
    "import seaborn as sns\n",
    "import numpy as np\n",
    "import pandas as pd\n",
    "import os"
   ]
  },
  {
   "cell_type": "code",
   "execution_count": 2,
   "metadata": {},
   "outputs": [],
   "source": [
    "# Labels for charts, tables\n",
    "models = {'electra-base-discriminator': 'ELECTRA', 'google': 'ELECTRA', 'google/electra-base-discriminator': 'ELECTRA', 'roberta-base': 'RoBERTa', 'bert-base-uncased': 'BERT', 'distilbert-base-uncased': 'DistilBERT', 'elmo':'ELMo'}\n",
    "metrics_short = {'accuracy': 'A', 'precision': 'P', 'recall': 'R', 'f1': 'F1'}"
   ]
  },
  {
   "attachments": {},
   "cell_type": "markdown",
   "metadata": {},
   "source": [
    "### Visualization on **text length** distribution"
   ]
  },
  {
   "attachments": {},
   "cell_type": "markdown",
   "metadata": {},
   "source": [
    "##### - Visualize word count distribution after preprocessing "
   ]
  },
  {
   "cell_type": "code",
   "execution_count": null,
   "metadata": {},
   "outputs": [],
   "source": [
    "# Load baseline test data\n",
    "path_to_baseline = \"pipeline/text-based/data/test.csv\"\n",
    "df_baseline = pd.read_csv(path_to_baseline, usecols=['ID','text', 'label'],index_col='ID', nrows=359)\n",
    "\n",
    "df_baseline['text'] = df_baseline['text'].fillna('') # Replace np.NaN with empty strings\n",
    "df_baseline[\"label\"] = df_baseline[\"label\"].map({\"FAKE\": 0, \"REAL\": 1})\n",
    "\n",
    "# 1. Add column with number of words\n",
    "df_baseline['word_count'] = df_baseline['text'].str.split().apply(len)\n",
    "df_baseline.drop('text', axis=1, inplace=True)\n",
    "\n",
    "display(df_baseline.head(2))\n",
    "print(df_baseline.shape)"
   ]
  },
  {
   "cell_type": "code",
   "execution_count": 15,
   "metadata": {},
   "outputs": [
    {
     "data": {
      "text/html": [
       "<div>\n",
       "<style scoped>\n",
       "    .dataframe tbody tr th:only-of-type {\n",
       "        vertical-align: middle;\n",
       "    }\n",
       "\n",
       "    .dataframe tbody tr th {\n",
       "        vertical-align: top;\n",
       "    }\n",
       "\n",
       "    .dataframe thead th {\n",
       "        text-align: right;\n",
       "    }\n",
       "</style>\n",
       "<table border=\"1\" class=\"dataframe\">\n",
       "  <thead>\n",
       "    <tr style=\"text-align: right;\">\n",
       "      <th></th>\n",
       "      <th>label</th>\n",
       "      <th>dataset</th>\n",
       "      <th>word_count</th>\n",
       "    </tr>\n",
       "    <tr>\n",
       "      <th>ID</th>\n",
       "      <th></th>\n",
       "      <th></th>\n",
       "      <th></th>\n",
       "    </tr>\n",
       "  </thead>\n",
       "  <tbody>\n",
       "    <tr>\n",
       "      <th>1197</th>\n",
       "      <td>1</td>\n",
       "      <td>liar</td>\n",
       "      <td>17</td>\n",
       "    </tr>\n",
       "    <tr>\n",
       "      <th>9795</th>\n",
       "      <td>0</td>\n",
       "      <td>liar</td>\n",
       "      <td>5</td>\n",
       "    </tr>\n",
       "  </tbody>\n",
       "</table>\n",
       "</div>"
      ],
      "text/plain": [
       "      label dataset  word_count\n",
       "ID                             \n",
       "1197      1    liar          17\n",
       "9795      0    liar           5"
      ]
     },
     "metadata": {},
     "output_type": "display_data"
    },
    {
     "name": "stdout",
     "output_type": "stream",
     "text": [
      "(359, 3)\n"
     ]
    }
   ],
   "source": [
    "# Load test arg-bassd data\n",
    "path_to_arg = \"pipeline/argumentation-based/argumentation structure/dolly/test.csv\"\n",
    "df_arg = pd.read_csv(path_to_arg, index_col='ID', usecols=['ID', 'text', 'label', 'dataset'], nrows=359).dropna()\n",
    "df_arg[\"label\"] = df_arg[\"label\"].map({\"FAKE\": 0, \"REAL\": 1})\n",
    "\n",
    "# 1. Add column with number of words\n",
    "df_arg['word_count'] = df_arg['text'].str.split().apply(len)\n",
    "df_arg.drop('text', axis=1, inplace=True)\n",
    "\n",
    "display(df_arg.head(2))\n",
    "print(df_arg.shape)"
   ]
  },
  {
   "cell_type": "code",
   "execution_count": null,
   "metadata": {},
   "outputs": [],
   "source": [
    "fig, ax = plt.subplots(1, 2, figsize=(6, 4))\n",
    "\n",
    "df_baseline['word_count'].plot(kind='hist', bins=20, edgecolor='black', ax=ax[0])\n",
    "df_arg['word_count'].plot(kind='hist', bins=20, ax=ax[1], edgecolor='black')\n",
    "ax[0].set_xlim(0, 3000)  \n",
    "ax[1].set_xlim(0, 3000) \n",
    "plt.plot()\n"
   ]
  },
  {
   "attachments": {},
   "cell_type": "markdown",
   "metadata": {},
   "source": [
    "##### - Visualize F1 score depending on word count"
   ]
  },
  {
   "attachments": {},
   "cell_type": "markdown",
   "metadata": {},
   "source": [
    "TODO:\n",
    "1. Kolom met lengte nieuws artikel toevoegen op test set.\n",
    "2. Logische categorieën bedenken voor woorden\n",
    "3. Modellen op baseline en argument component pipeline model runnen op unlabeled test data.\n",
    "4. Predictions FAKE/REAL opslaan per artikel\n",
    "4. 'Handmatig' de F1 berekenen per logisch bedachte categorie lengte woorden stap 2.\n",
    "5. Lineplot of barplot maken met Y F1 accuracy en X lengte woorden."
   ]
  },
  {
   "cell_type": "code",
   "execution_count": 3,
   "metadata": {},
   "outputs": [],
   "source": [
    "def get_labels(path_to_labels):\n",
    "    # Read test data with labels\n",
    "    df_labels = pd.read_csv(f\"{path_to_labels}.csv\", usecols=['ID', 'text', 'label'], index_col='ID').dropna()\n",
    "\n",
    "    # Convert string to int label\n",
    "    df_labels[\"label\"] = df_labels[\"label\"].map({\"FAKE\": 0, \"REAL\": 1})\n",
    "\n",
    "    # Count the number of words\n",
    "    df_labels['word_count'] = df_labels['text'].str.split().apply(len)\n",
    "\n",
    "    # Add bins depending on the words\n",
    "    df_labels['bin_id'] = pd.cut(df_labels['word_count'], bins=[0, 100, 300, 10000], labels=[\"Short\", \"Medium\", \"Long\"],right=True)\n",
    "    return df_labels"
   ]
  },
  {
   "cell_type": "code",
   "execution_count": 4,
   "metadata": {},
   "outputs": [],
   "source": [
    "metric = evaluate.combine([\"f1\"])\n",
    "\n",
    "def process_predictions(df_labels, path_to_best_model_predictions):\n",
    "\n",
    "    # Load predictions for best model\n",
    "    df_predictions = pd.read_csv(f\"{path_to_best_model_predictions}\", usecols=['ID', 'prediction'], index_col='ID')\n",
    "\n",
    "    # Combine predictions and correct labels\n",
    "    df = pd.concat([df_labels, df_predictions], axis=1)\n",
    "\n",
    "    # Group df by bin\n",
    "    grouped_df = df.groupby('bin_id')\n",
    "\n",
    "    # Calculate F1 score per bin\n",
    "    f1_per_batch = []    \n",
    "    for idx, data in grouped_df:\n",
    "        labels = data['label'].values\n",
    "        preds = data['prediction'].values\n",
    "        result = metric.compute(labels, preds)\n",
    "        print(idx, len(data), result['f1'])\n",
    "        f1_per_batch.append(result['f1'])\n",
    "    \n",
    "    return f1_per_batch"
   ]
  },
  {
   "cell_type": "code",
   "execution_count": 5,
   "metadata": {},
   "outputs": [],
   "source": [
    "def plot_lines(performance, ax):\n",
    "    fig_labels = [i for i in performance]\n",
    "    y_values = [performance[i] for i in performance]\n",
    "    x_values = np.arange(1, len(y_values[0]) + 1)\n",
    "\n",
    "    for i in range(len(y_values)):\n",
    "        ax.plot(x_values, y_values[i], label=fig_labels[i])\n",
    "    \n",
    "    return ax"
   ]
  },
  {
   "cell_type": "code",
   "execution_count": 6,
   "metadata": {},
   "outputs": [
    {
     "name": "stdout",
     "output_type": "stream",
     "text": [
      "Short 251 0.721518987341772\n",
      "Medium 121 0.8\n",
      "Long 69 0.8791208791208791\n"
     ]
    }
   ],
   "source": [
    "# Baseline\n",
    "baseline_path_to_labels = \"pipeline/text-based/data/test\"\n",
    "base_path_best_model_preds = \"pipeline/text-based/results/roberta-base_predictions.csv\"\n",
    "performance_baseline = process_predictions(get_labels(baseline_path_to_labels), base_path_best_model_preds)"
   ]
  },
  {
   "cell_type": "code",
   "execution_count": 7,
   "metadata": {},
   "outputs": [],
   "source": [
    "# ARG\n",
    "best_models_margot = {\n",
    "    'evidence': 'pipeline/argumentation-based/results/margot/evidence/distilbert-base-uncased_predictions.csv',\n",
    "    'claim': 'pipeline/argumentation-based/results/margot/claim/distilbert-base-uncased_predictions.csv',\n",
    "    'structure': 'pipeline/argumentation-based/results/margot/structure/distilbert-base-uncased_predictions.csv'\n",
    "}\n",
    "\n",
    "best_models_dolly = {\n",
    "    'evidence': 'pipeline/argumentation-based/results/dolly/evidence/distilbert-base-uncased_predictions.csv',\n",
    "    'claim': 'pipeline/argumentation-based/results/dolly/claim/distilbert-base-uncased_predictions.csv',\n",
    "    'structure': 'pipeline/argumentation-based/results/dolly/structure/distilbert-base-uncased_predictions.csv'\n",
    "}"
   ]
  },
  {
   "cell_type": "code",
   "execution_count": 8,
   "metadata": {},
   "outputs": [],
   "source": [
    "def per_component(path_to_labels, best_models):\n",
    "    performance = {}\n",
    "    df_labels = get_labels(path_to_labels)\n",
    "\n",
    "    for comp in ['structure', 'claim', 'evidence']:\n",
    "        f1_scores = process_predictions(df_labels, best_models[comp])\n",
    "        performance[comp] = f1_scores\n",
    "    return performance"
   ]
  },
  {
   "cell_type": "code",
   "execution_count": 9,
   "metadata": {},
   "outputs": [
    {
     "name": "stdout",
     "output_type": "stream",
     "text": [
      "Short 130 0.6666666666666667\n",
      "Medium 58 0.9333333333333333\n",
      "Long 171 0.924731182795699\n",
      "Short 130 0.7326732673267327\n",
      "Medium 58 0.7012987012987013\n",
      "Long 171 0.7676767676767676\n",
      "Short 130 0.6341463414634146\n",
      "Medium 58 0.9152542372881356\n",
      "Long 171 0.9617486338797815\n",
      "Short 242 0.689419795221843\n",
      "Medium 58 0.7804878048780488\n",
      "Long 143 0.7768595041322314\n",
      "Short 242 0.7009646302250804\n",
      "Medium 58 0.6818181818181819\n",
      "Long 143 0.7746478873239436\n",
      "Short 242 0.7077922077922079\n",
      "Medium 58 0.7391304347826089\n",
      "Long 143 0.8270676691729324\n"
     ]
    }
   ],
   "source": [
    "# Add MARGOT \n",
    "path_to_labels = \"pipeline/argumentation-based/argumentation structure\"\n",
    "\n",
    "performance_margot = per_component(f\"{path_to_labels}/margot/test\", best_models_margot)\n",
    "performance_dolly = per_component(f\"{path_to_labels}/dolly/test\", best_models_dolly)\n",
    "\n",
    "with open('perf_margot.json', 'w') as json_file:\n",
    "    json.dump(performance_margot, json_file, indent=4)\n",
    "\n",
    "with open('perf_dolly.json', 'w') as json_file:\n",
    "    json.dump(performance_dolly, json_file, indent=4)"
   ]
  },
  {
   "cell_type": "code",
   "execution_count": 10,
   "metadata": {},
   "outputs": [],
   "source": [
    "# Reorder the labels\n",
    "performance_margot = {'Evidence': performance_margot['evidence'], 'Claim': performance_margot['claim'], 'Structure': performance_margot['structure']}\n",
    "performance_dolly = {'Evidence': performance_dolly['evidence'], 'Claim': performance_dolly['claim'], 'Structure': performance_dolly['structure']}\n"
   ]
  },
  {
   "cell_type": "code",
   "execution_count": 11,
   "metadata": {},
   "outputs": [
    {
     "name": "stdout",
     "output_type": "stream",
     "text": [
      "Evidence\n",
      "Claim\n",
      "Structure\n"
     ]
    },
    {
     "data": {
      "image/png": "[encoded data removed]",
      "text/plain": [
       "<Figure size 600x400 with 1 Axes>"
      ]
     },
     "metadata": {},
     "output_type": "display_data"
    }
   ],
   "source": [
    "# BASELINE + MARGOT \n",
    "sns.set_style(\"white\")\n",
    "sns.set_context('paper')\n",
    "\n",
    "plt.figure(figsize=(6, 4))\n",
    "ax = sns.lineplot(performance_baseline, marker='o',linestyle='--', color=\"black\", markersize=5, label='Baseline')\n",
    "ax.set_xticks(range(len(performance_baseline)))\n",
    "ax.set_xticklabels(['Short', 'Medium', 'Long'])\n",
    "ax.set(xlabel='Text length', ylabel='F1')\n",
    "ax.set(title=\"MARGOT\")\n",
    "\n",
    "palette = sns.color_palette(\"Set2\")\n",
    "\n",
    "for i, (label, data) in enumerate(performance_margot.items()):\n",
    "    print(label)\n",
    "    sns.lineplot(x=[0, 1, 2], y=data, marker='D', label=label.capitalize(), markersize=5, ax=ax, color=palette[i])\n",
    "\n",
    "\n",
    "plt.savefig(\"margot_text_length.png\")"
   ]
  },
  {
   "cell_type": "code",
   "execution_count": 12,
   "metadata": {},
   "outputs": [
    {
     "data": {
      "image/png": "[encoded data removed]",
      "text/plain": [
       "<Figure size 600x400 with 1 Axes>"
      ]
     },
     "metadata": {},
     "output_type": "display_data"
    }
   ],
   "source": [
    "# Baseline + Dolly\n",
    "sns.set_style(\"white\")\n",
    "sns.set_context('paper')\n",
    "\n",
    "plt.figure(figsize=(6, 4))\n",
    "ax = sns.lineplot(performance_baseline, marker='o',linestyle='--', color=\"black\", markersize=5, label='Baseline')\n",
    "ax.set_xticks(range(len(performance_baseline)))\n",
    "ax.set(title=\"Dolly 2.0\")\n",
    "ax.set_xticklabels(['Short', 'Medium', 'Long'])\n",
    "ax.set(xlabel='Text length', ylabel='F1')\n",
    "\n",
    "palette = sns.color_palette(\"Set2\")\n",
    "\n",
    "for i, (label, data) in enumerate(performance_dolly.items()):\n",
    "    sns.lineplot(x=[0, 1, 2], y=data, marker='D', label=label.capitalize(), markersize=5, ax=ax, color=palette[i])\n",
    "\n",
    "# plt.show()\n",
    "plt.savefig(\"dolly_text_length.png\")"
   ]
  },
  {
   "attachments": {},
   "cell_type": "markdown",
   "metadata": {},
   "source": [
    "### Visualization on **validation** set"
   ]
  },
  {
   "cell_type": "code",
   "execution_count": null,
   "metadata": {},
   "outputs": [],
   "source": [
    "MODE = 'argumentation-based'\n",
    "if MODE == 'argumentation-based':\n",
    "    TOOL = 'margot'\n",
    "    ELEMENT = 'structure'\n",
    "\n",
    "    input_path = f\"models/{MODE}/{TOOL}/{ELEMENT}/training/\"\n",
    "    output_path = f'pipeline/{MODE}/results/figures/{TOOL}_{ELEMENT}.png'\n",
    "else:\n",
    "    input_path = f\"models/{MODE}/training/\"\n",
    "    output_path = f'pipeline/{MODE}/results/figures/baseline.png'"
   ]
  },
  {
   "cell_type": "code",
   "execution_count": null,
   "metadata": {},
   "outputs": [],
   "source": [
    "# Plot results baseline\n",
    "\n",
    "res = defaultdict(dict)\n",
    "x_values, y_values, hue_values = [], [], []\n",
    "\n",
    "for root, dirs, files in os.walk(input_path):\n",
    "    mets = []\n",
    "    for file in files:\n",
    "\n",
    "        # Look for trainer_state.json files for all models except for ELMo \n",
    "        if file == 'trainer_state.json':\n",
    "            # PREPARE FOR TABLE\n",
    "            metrics = {}\n",
    "\n",
    "            model_name = os.path.basename(os.path.dirname(os.path.dirname(root)))\n",
    "            dataset = os.path.basename(os.path.dirname(root))\n",
    "            trainer_state = os.path.join(root, file)\n",
    "\n",
    "            with open(trainer_state) as f:\n",
    "                data = json.load(f)\n",
    "\n",
    "            f1 = data[\"log_history\"][1][\"eval_f1\"]\n",
    "            accuracy = data[\"log_history\"][1][\"eval_accuracy\"]\n",
    "            recall = data[\"log_history\"][1][\"eval_recall\"]\n",
    "            precision = data[\"log_history\"][1][\"eval_precision\"]\n",
    "\n",
    "            metrics['F1'] = \"{:.2f}\".format(f1)\n",
    "            metrics['Accuracy'] = \"{:.2f}\".format(accuracy)\n",
    "            metrics['Recall'] = \"{:.2f}\".format(recall)\n",
    "            metrics['Precision'] = \"{:.2f}\".format(precision)\n",
    "\n",
    "            res[models[model_name]][datasets[dataset]] = metrics\n",
    "\n",
    "            # PREPARE FOR CHART \n",
    "            x_values.append(models[model_name])\n",
    "            hue_values.append(datasets[dataset])\n",
    "            y_values.append(float(\"{:.2f}\".format(f1)))\n",
    "\n",
    "        # Prepare doing the same for ELMo\n",
    "        if 'elmo' in os.path.dirname(root):\n",
    "            if file.endswith('.json'):\n",
    "                mets.append(file)    \n",
    "    \n",
    "    # All ELMo from here\n",
    "    mets_sorted = sorted(mets, key=lambda x: int(x.split(\".\")[0][-1]), reverse=True) # Only keep best EPOCH\n",
    "\n",
    "    if mets_sorted:\n",
    "        metrics = {}\n",
    "        model_name = os.path.basename(os.path.dirname(root))\n",
    "        dataset = os.path.basename(root)\n",
    "        best_metric = mets_sorted[0]\n",
    "        best_mets_file = os.path.join(root, best_metric)\n",
    "\n",
    "        with open(best_mets_file) as f:\n",
    "            data = json.load(f)\n",
    "        \n",
    "        f1 = data[\"best_validation_f1\"]\n",
    "        accuracy = data[\"best_validation_accuracy\"]\n",
    "        precision = data[\"best_validation_precision\"]\n",
    "        recall = data[\"best_validation_recall\"]\n",
    "\n",
    "        metrics['Accuracy'] = \"{:.2f}\".format(accuracy)\n",
    "        metrics['Precision'] = \"{:.2f}\".format(precision)\n",
    "        metrics['Recall'] = \"{:.2f}\".format(recall)\n",
    "        metrics['F1'] = \"{:.2f}\".format(f1)\n",
    "\n",
    "        \n",
    "        res[models[model_name]][datasets[dataset]] = metrics\n",
    "\n",
    "        # PREPARE FOR CHART\n",
    "        x_values.append(models[model_name])\n",
    "        hue_values.append(datasets[dataset])   \n",
    "        y_values.append(float(\"{:.2f}\".format(f1)))"
   ]
  },
  {
   "cell_type": "code",
   "execution_count": null,
   "metadata": {},
   "outputs": [],
   "source": [
    "res"
   ]
  },
  {
   "cell_type": "code",
   "execution_count": null,
   "metadata": {},
   "outputs": [],
   "source": [
    "# F1 table only\n",
    "index = res.keys()\n",
    "values = []\n",
    "cols = []\n",
    "\n",
    "for model_name, d in res.items():\n",
    "    tmp_cols = []\n",
    "\n",
    "    for dataset, scores in d.items():\n",
    "        for metric, score in scores.items():\n",
    "            if metric == 'F1':\n",
    "                values.append(score)\n",
    "                tmp_cols.append((dataset, metric))\n",
    "\n",
    "cols.append(tmp_cols)\n",
    "\n",
    "# Flatten columns\n",
    "cols = sum(cols, [])\n",
    "\n",
    "multi_index = pd.MultiIndex.from_tuples(cols)\n",
    "\n",
    "# Reshape the values\n",
    "reshaped_values = np.array(values).reshape(-1, len(index))  \n",
    "\n",
    "df = pd.DataFrame(reshaped_values, index=multi_index, columns=index)\n",
    "df = df.T\n",
    "\n",
    "df = df.reindex(index=['BERT', 'RoBERTa', 'DistilBERT', 'ELECTRA', 'ELMo'])\n",
    "\n",
    "print(df.to_latex())"
   ]
  },
  {
   "cell_type": "code",
   "execution_count": null,
   "metadata": {},
   "outputs": [],
   "source": [
    "# Full table (A, P, R, F1)\n",
    "# Create table with 2 level index (dataset, metric), columns are the models, values are the scores\n",
    "reformed = []\n",
    "for k, v in res.items():\n",
    "    x = {(outerKey, innerKey): values for outerKey, innerDict in v.items() for innerKey, values in innerDict.items()}\n",
    "    y = pd.DataFrame(x, index=[k])\n",
    "    reformed.append(y)\n",
    "\n",
    "df = pd.concat(reformed)\n",
    "df = df.reindex(index=['BERT', 'RoBERTa', 'DistilBERT', 'ELECTRA', 'ELMo'])\n",
    "df\n"
   ]
  },
  {
   "cell_type": "code",
   "execution_count": null,
   "metadata": {},
   "outputs": [],
   "source": [
    "# For thesis\n",
    "print(df.to_latex())"
   ]
  },
  {
   "cell_type": "code",
   "execution_count": null,
   "metadata": {},
   "outputs": [],
   "source": [
    "sns.set_style(\"whitegrid\")\n",
    "sns.set_context('paper')\n",
    "\n",
    "plt.figure(figsize=(6, 4))\n",
    "\n",
    "ax = sns.barplot(x=x_values, y=y_values, hue=hue_values, palette=\"deep\")\n",
    "sns.move_legend(ax, \"lower center\", \n",
    "    bbox_to_anchor=(.5, 1), ncol=4, title=None, frameon=False)\n",
    "\n",
    "ax.set_yticks(list(np.arange(0,1.1,0.1)))\n",
    "plt.ylabel('F1')\n",
    "\n",
    "plt.savefig(f\"{output_path}.png\")"
   ]
  },
  {
   "attachments": {},
   "cell_type": "markdown",
   "metadata": {},
   "source": [
    "### Visualisation on **test** set"
   ]
  },
  {
   "attachments": {},
   "cell_type": "markdown",
   "metadata": {},
   "source": [
    "#### Baseline pipeline"
   ]
  },
  {
   "cell_type": "code",
   "execution_count": null,
   "metadata": {},
   "outputs": [],
   "source": [
    "# Concat inference results\n",
    "path_to_baseline_performance = \"/home/mkersten/fake_news/pipeline/text-based/results/json/performance_test.json\"\n",
    "\n",
    "with open(path_to_baseline_performance) as json_file:\n",
    "    performance = json.load(json_file)\n",
    "print(performance)"
   ]
  },
  {
   "cell_type": "code",
   "execution_count": null,
   "metadata": {},
   "outputs": [],
   "source": [
    "idx = [models[i] for i in performance]\n",
    "values = [[\"{:.2f}\".format(performance[i][j]) for j in performance[i]] for i in performance]\n",
    "\n",
    "df = pd.DataFrame(values, index=idx, columns=['Accuracy', 'Precision', 'Recall', 'F1'])\n",
    "print(df.to_latex())"
   ]
  },
  {
   "attachments": {},
   "cell_type": "markdown",
   "metadata": {},
   "source": [
    "#### Argumentation-based pipeline"
   ]
  },
  {
   "cell_type": "code",
   "execution_count": null,
   "metadata": {},
   "outputs": [],
   "source": [
    "# Concat inference results\n",
    "path_to_dolly = \"pipeline/argumentation-based/results/dolly\"\n",
    "\n",
    "performance_dolly = {}\n",
    "for component_name in os.listdir(path_to_dolly):\n",
    "    path_to_json = f\"{path_to_dolly}/{component_name}/json\"\n",
    "    for f in os.listdir(path_to_json):\n",
    "        path = os.path.join(path_to_json, f)\n",
    "        with open(path) as f:\n",
    "            json_results = json.load(f)\n",
    "            performance_dolly[component_name] = json_results\n",
    "print(performance_dolly)"
   ]
  },
  {
   "cell_type": "code",
   "execution_count": null,
   "metadata": {},
   "outputs": [],
   "source": [
    "path_to_margot = \"pipeline/argumentation-based/results/margot\"\n",
    "\n",
    "performance_margot = {}\n",
    "for component_name in os.listdir(path_to_dolly):\n",
    "    path_to_json = f\"{path_to_margot}/{component_name}/json\"\n",
    "    for f in os.listdir(path_to_json):\n",
    "        path = os.path.join(path_to_json, f)\n",
    "        with open(path) as f:\n",
    "            json_results = json.load(f)\n",
    "            performance_margot[component_name] = json_results\n",
    "print(performance_margot)"
   ]
  },
  {
   "cell_type": "code",
   "execution_count": null,
   "metadata": {},
   "outputs": [],
   "source": [
    "# Dolly: Full table (A, P, R, F1)\n",
    "cols, values = [], []\n",
    "for i in performance_dolly:\n",
    "    tmp_col, idx = [], []\n",
    "    for k, v in performance_dolly[i].items():\n",
    "\n",
    "        idx.append(models[k])\n",
    "\n",
    "        metric = [(i,metrics_short[j]) for j in performance_dolly[i][k]]\n",
    "        value = [(performance_dolly[i][k][j]) for j in performance_dolly[i][k]]\n",
    "        for a, b in performance_dolly[i][k].items():\n",
    "            value = \"{:.2f}\".format(b)\n",
    "            values.append(value)\n",
    "\n",
    "    cols.append(metric)\n",
    "\n",
    "cols = sum(cols, [])\n",
    "multi_columns = pd.MultiIndex.from_tuples(cols, names=['component', 'metric'])\n",
    "reshaped_values = np.array(values).reshape(-1, 12)  \n",
    "df_dolly = pd.DataFrame(reshaped_values, index=idx, columns=multi_columns)\n",
    "display(df_dolly)\n",
    "print(df_dolly.to_latex())"
   ]
  },
  {
   "cell_type": "code",
   "execution_count": null,
   "metadata": {},
   "outputs": [],
   "source": [
    "# MARGOT: Full table (A, P, R, F1)\n",
    "cols, values = [], []\n",
    "for i in performance_margot:\n",
    "    tmp_col, idx = [], []\n",
    "    for k, v in performance_margot[i].items():\n",
    "\n",
    "        idx.append(models[k])\n",
    "\n",
    "        metric = [(i,metrics_short[j]) for j in performance_margot[i][k]]\n",
    "        value = [(performance_margot[i][k][j]) for j in performance_margot[i][k]]\n",
    "        for a, b in performance_margot[i][k].items():\n",
    "            value = \"{:.2f}\".format(b)\n",
    "            values.append(value)\n",
    "\n",
    "    cols.append(metric)\n",
    "\n",
    "cols = sum(cols, [])\n",
    "multi_columns = pd.MultiIndex.from_tuples(cols, names=['component', 'metric'])\n",
    "reshaped_values = np.array(values).reshape(-1, 12)  \n",
    "df_margot = pd.DataFrame(reshaped_values, index=idx, columns=multi_columns)\n",
    "display(df_margot)\n",
    "print(df_margot.to_latex())"
   ]
  },
  {
   "cell_type": "code",
   "execution_count": null,
   "metadata": {},
   "outputs": [],
   "source": [
    "combined = pd.concat([df_dolly, df_margot], axis=1)\n",
    "display(combined.head(5))\n",
    "print(combined.to_latex())"
   ]
  },
  {
   "attachments": {},
   "cell_type": "markdown",
   "metadata": {},
   "source": [
    "#### Other "
   ]
  },
  {
   "cell_type": "code",
   "execution_count": 18,
   "metadata": {},
   "outputs": [
    {
     "data": {
      "text/html": [
       "<div>\n",
       "<style scoped>\n",
       "    .dataframe tbody tr th:only-of-type {\n",
       "        vertical-align: middle;\n",
       "    }\n",
       "\n",
       "    .dataframe tbody tr th {\n",
       "        vertical-align: top;\n",
       "    }\n",
       "\n",
       "    .dataframe thead th {\n",
       "        text-align: right;\n",
       "    }\n",
       "</style>\n",
       "<table border=\"1\" class=\"dataframe\">\n",
       "  <thead>\n",
       "    <tr style=\"text-align: right;\">\n",
       "      <th></th>\n",
       "      <th>label</th>\n",
       "      <th>word_count</th>\n",
       "    </tr>\n",
       "    <tr>\n",
       "      <th>dataset</th>\n",
       "      <th></th>\n",
       "      <th></th>\n",
       "    </tr>\n",
       "  </thead>\n",
       "  <tbody>\n",
       "    <tr>\n",
       "      <th>fake_real</th>\n",
       "      <td>62</td>\n",
       "      <td>62</td>\n",
       "    </tr>\n",
       "    <tr>\n",
       "      <th>kaggle</th>\n",
       "      <td>128</td>\n",
       "      <td>128</td>\n",
       "    </tr>\n",
       "    <tr>\n",
       "      <th>liar</th>\n",
       "      <td>169</td>\n",
       "      <td>169</td>\n",
       "    </tr>\n",
       "  </tbody>\n",
       "</table>\n",
       "</div>"
      ],
      "text/plain": [
       "           label  word_count\n",
       "dataset                     \n",
       "fake_real     62          62\n",
       "kaggle       128         128\n",
       "liar         169         169"
      ]
     },
     "execution_count": 18,
     "metadata": {},
     "output_type": "execute_result"
    }
   ],
   "source": [
    "# Distribution test set over datasets\n",
    "df_arg.groupby('dataset').agg(len)"
   ]
  },
  {
   "cell_type": "code",
   "execution_count": 19,
   "metadata": {},
   "outputs": [
    {
     "data": {
      "text/plain": [
       "359"
      ]
     },
     "execution_count": 19,
     "metadata": {},
     "output_type": "execute_result"
    }
   ],
   "source": [
    "len(df_arg)"
   ]
  },
  {
   "cell_type": "code",
   "execution_count": null,
   "metadata": {},
   "outputs": [],
   "source": []
  }
 ],
 "metadata": {
  "kernelspec": {
   "display_name": "Python 3",
   "language": "python",
   "name": "python3"
  },
  "language_info": {
   "codemirror_mode": {
    "name": "ipython",
    "version": 3
   },
   "file_extension": ".py",
   "mimetype": "text/x-python",
   "name": "python",
   "nbconvert_exporter": "python",
   "pygments_lexer": "ipython3",
   "version": "3.9.16"
  },
  "orig_nbformat": 4
 },
 "nbformat": 4,
 "nbformat_minor": 2
}
