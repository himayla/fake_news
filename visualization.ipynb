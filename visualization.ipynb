{
 "cells": [
  {
   "cell_type": "code",
   "execution_count": 1,
   "metadata": {},
   "outputs": [
    {
     "name": "stderr",
     "output_type": "stream",
     "text": [
      "/home/mkersten/.local/lib/python3.9/site-packages/tqdm/auto.py:21: TqdmWarning: IProgress not found. Please update jupyter and ipywidgets. See https://ipywidgets.readthedocs.io/en/stable/user_install.html\n",
      "  from .autonotebook import tqdm as notebook_tqdm\n"
     ]
    }
   ],
   "source": [
    "from collections import defaultdict\n",
    "import evaluate\n",
    "import json\n",
    "import matplotlib.pyplot as plt\n",
    "import seaborn as sns\n",
    "import numpy as np\n",
    "import pandas as pd\n",
    "import os"
   ]
  },
  {
   "cell_type": "code",
   "execution_count": 36,
   "metadata": {},
   "outputs": [],
   "source": [
    "# Labels for charts, tables\n",
    "models = {'electra-base-discriminator': 'ELECTRA', 'google': 'ELECTRA', 'google/electra-base-discriminator': 'ELECTRA', 'roberta-base': 'RoBERTa', 'bert-base-uncased': 'BERT', 'distilbert-base-uncased': 'DistilBERT', 'elmo':'ELMo'}\n",
    "metrics_short = {'accuracy': 'A', 'precision': 'P', 'recall': 'R', 'f1': 'F1'}"
   ]
  },
  {
   "attachments": {},
   "cell_type": "markdown",
   "metadata": {},
   "source": [
    "### Visualization on **text length** distribution"
   ]
  },
  {
   "attachments": {},
   "cell_type": "markdown",
   "metadata": {},
   "source": [
    "##### - Visualize word count distribution after preprocessing "
   ]
  },
  {
   "cell_type": "code",
   "execution_count": 2,
   "metadata": {},
   "outputs": [
    {
     "data": {
      "text/html": [
       "<div>\n",
       "<style scoped>\n",
       "    .dataframe tbody tr th:only-of-type {\n",
       "        vertical-align: middle;\n",
       "    }\n",
       "\n",
       "    .dataframe tbody tr th {\n",
       "        vertical-align: top;\n",
       "    }\n",
       "\n",
       "    .dataframe thead th {\n",
       "        text-align: right;\n",
       "    }\n",
       "</style>\n",
       "<table border=\"1\" class=\"dataframe\">\n",
       "  <thead>\n",
       "    <tr style=\"text-align: right;\">\n",
       "      <th></th>\n",
       "      <th>label</th>\n",
       "      <th>word_count</th>\n",
       "    </tr>\n",
       "    <tr>\n",
       "      <th>ID</th>\n",
       "      <th></th>\n",
       "      <th></th>\n",
       "    </tr>\n",
       "  </thead>\n",
       "  <tbody>\n",
       "    <tr>\n",
       "      <th>1197</th>\n",
       "      <td>1</td>\n",
       "      <td>7</td>\n",
       "    </tr>\n",
       "    <tr>\n",
       "      <th>9795</th>\n",
       "      <td>0</td>\n",
       "      <td>0</td>\n",
       "    </tr>\n",
       "  </tbody>\n",
       "</table>\n",
       "</div>"
      ],
      "text/plain": [
       "      label  word_count\n",
       "ID                     \n",
       "1197      1           7\n",
       "9795      0           0"
      ]
     },
     "metadata": {},
     "output_type": "display_data"
    },
    {
     "name": "stdout",
     "output_type": "stream",
     "text": [
      "(359, 2)\n"
     ]
    }
   ],
   "source": [
    "# Load baseline test data\n",
    "path_to_baseline = \"pipeline/text-based/data/test.csv\"\n",
    "df_baseline = pd.read_csv(path_to_baseline, usecols=['ID','text', 'label'],index_col='ID', nrows=359)\n",
    "\n",
    "df_baseline['text'] = df_baseline['text'].fillna('') # Replace np.NaN with empty strings\n",
    "df_baseline[\"label\"] = df_baseline[\"label\"].map({\"FAKE\": 0, \"REAL\": 1})\n",
    "\n",
    "# 1. Add column with number of words\n",
    "df_baseline['word_count'] = df_baseline['text'].str.split().apply(len)\n",
    "df_baseline.drop('text', axis=1, inplace=True)\n",
    "\n",
    "display(df_baseline.head(2))\n",
    "print(df_baseline.shape)"
   ]
  },
  {
   "cell_type": "code",
   "execution_count": 3,
   "metadata": {},
   "outputs": [
    {
     "data": {
      "text/html": [
       "<div>\n",
       "<style scoped>\n",
       "    .dataframe tbody tr th:only-of-type {\n",
       "        vertical-align: middle;\n",
       "    }\n",
       "\n",
       "    .dataframe tbody tr th {\n",
       "        vertical-align: top;\n",
       "    }\n",
       "\n",
       "    .dataframe thead th {\n",
       "        text-align: right;\n",
       "    }\n",
       "</style>\n",
       "<table border=\"1\" class=\"dataframe\">\n",
       "  <thead>\n",
       "    <tr style=\"text-align: right;\">\n",
       "      <th></th>\n",
       "      <th>label</th>\n",
       "      <th>word_count</th>\n",
       "    </tr>\n",
       "    <tr>\n",
       "      <th>ID</th>\n",
       "      <th></th>\n",
       "      <th></th>\n",
       "    </tr>\n",
       "  </thead>\n",
       "  <tbody>\n",
       "    <tr>\n",
       "      <th>1197</th>\n",
       "      <td>1</td>\n",
       "      <td>17</td>\n",
       "    </tr>\n",
       "    <tr>\n",
       "      <th>9795</th>\n",
       "      <td>0</td>\n",
       "      <td>5</td>\n",
       "    </tr>\n",
       "  </tbody>\n",
       "</table>\n",
       "</div>"
      ],
      "text/plain": [
       "      label  word_count\n",
       "ID                     \n",
       "1197      1          17\n",
       "9795      0           5"
      ]
     },
     "metadata": {},
     "output_type": "display_data"
    },
    {
     "name": "stdout",
     "output_type": "stream",
     "text": [
      "(359, 2)\n"
     ]
    }
   ],
   "source": [
    "# Load test arg-bassd data\n",
    "path_to_arg = \"pipeline/argumentation-based/argumentation structure/dolly/test.csv\"\n",
    "df_arg = pd.read_csv(path_to_arg, index_col='ID', usecols=['ID', 'text', 'label'], nrows=359).dropna()\n",
    "df_arg[\"label\"] = df_arg[\"label\"].map({\"FAKE\": 0, \"REAL\": 1})\n",
    "\n",
    "# 1. Add column with number of words\n",
    "df_arg['word_count'] = df_arg['text'].str.split().apply(len)\n",
    "df_arg.drop('text', axis=1, inplace=True)\n",
    "\n",
    "display(df_arg.head(2))\n",
    "print(df_arg.shape)"
   ]
  },
  {
   "cell_type": "code",
   "execution_count": 4,
   "metadata": {},
   "outputs": [
    {
     "data": {
      "text/plain": [
       "[]"
      ]
     },
     "execution_count": 4,
     "metadata": {},
     "output_type": "execute_result"
    },
    {
     "data": {
      "image/png": "[encoded data removed]",
      "text/plain": [
       "<Figure size 600x400 with 2 Axes>"
      ]
     },
     "metadata": {},
     "output_type": "display_data"
    }
   ],
   "source": [
    "fig, ax = plt.subplots(1, 2, figsize=(6, 4))\n",
    "\n",
    "df_baseline['word_count'].plot(kind='hist', bins=20, edgecolor='black', ax=ax[0])\n",
    "df_arg['word_count'].plot(kind='hist', bins=20, ax=ax[1], edgecolor='black')\n",
    "ax[0].set_xlim(0, 3000)  \n",
    "ax[1].set_xlim(0, 3000) \n",
    "plt.plot()\n"
   ]
  },
  {
   "attachments": {},
   "cell_type": "markdown",
   "metadata": {},
   "source": [
    "##### - Visualize F1 score depending on word count"
   ]
  },
  {
   "attachments": {},
   "cell_type": "markdown",
   "metadata": {},
   "source": [
    "TODO:\n",
    "1. Kolom met lengte nieuws artikel toevoegen op test set.\n",
    "2. Logische categorieën bedenken voor woorden\n",
    "3. Modellen op baseline en argument component pipeline model runnen op unlabeled test data.\n",
    "4. Predictions FAKE/REAL opslaan per artikel\n",
    "4. 'Handmatig' de F1 berekenen per logisch bedachte categorie lengte woorden stap 2.\n",
    "5. Lineplot of barplot maken met Y F1 accuracy en X lengte woorden."
   ]
  },
  {
   "cell_type": "code",
   "execution_count": 5,
   "metadata": {},
   "outputs": [],
   "source": [
    "def get_labels(path_to_labels):\n",
    "    # Read test data with labels\n",
    "    df_labels = pd.read_csv(f\"{path_to_labels}.csv\", usecols=['ID', 'text', 'label'], index_col='ID').dropna()\n",
    "\n",
    "    # Convert string to int label\n",
    "    df_labels[\"label\"] = df_labels[\"label\"].map({\"FAKE\": 0, \"REAL\": 1})\n",
    "\n",
    "    # Count the number of words\n",
    "    df_labels['word_count'] = df_labels['text'].str.split().apply(len)\n",
    "\n",
    "    # Add bins depending on the words\n",
    "    df_labels['bin_id'] = pd.cut(df_labels['word_count'], bins=[0, 100, 300, 10000], labels=[\"Short\", \"Medium\", \"Long\"],right=True)\n",
    "    return df_labels"
   ]
  },
  {
   "cell_type": "code",
   "execution_count": 6,
   "metadata": {},
   "outputs": [],
   "source": [
    "metric = evaluate.combine([\"f1\"])\n",
    "\n",
    "def process_predictions(df_labels, path_to_best_model_predictions):\n",
    "\n",
    "    # Load predictions for best model\n",
    "    df_predictions = pd.read_csv(f\"{path_to_best_model_predictions}\", usecols=['ID', 'prediction'], index_col='ID')\n",
    "\n",
    "    # Combine predictions and correct labels\n",
    "    df = pd.concat([df_labels, df_predictions], axis=1)\n",
    "\n",
    "    # Group df by bin\n",
    "    grouped_df = df.groupby('bin_id')\n",
    "\n",
    "    # Calculate F1 score per bin\n",
    "    f1_per_batch = []    \n",
    "    for idx, data in grouped_df:\n",
    "        labels = data['label'].values\n",
    "        preds = data['prediction'].values\n",
    "        result = metric.compute(labels, preds)\n",
    "        print(idx, len(data), result['f1'])\n",
    "        f1_per_batch.append(result['f1'])\n",
    "    \n",
    "    return f1_per_batch"
   ]
  },
  {
   "cell_type": "code",
   "execution_count": 7,
   "metadata": {},
   "outputs": [],
   "source": [
    "def plot_lines(performance, ax):\n",
    "    fig_labels = [i for i in performance]\n",
    "    y_values = [performance[i] for i in performance]\n",
    "    x_values = np.arange(1, len(y_values[0]) + 1)\n",
    "\n",
    "    for i in range(len(y_values)):\n",
    "        ax.plot(x_values, y_values[i], label=fig_labels[i])\n",
    "    \n",
    "    return ax"
   ]
  },
  {
   "cell_type": "code",
   "execution_count": 8,
   "metadata": {},
   "outputs": [
    {
     "name": "stdout",
     "output_type": "stream",
     "text": [
      "Short 251 0.721518987341772\n",
      "Medium 121 0.8\n",
      "Long 69 0.8791208791208791\n"
     ]
    }
   ],
   "source": [
    "# Baseline\n",
    "baseline_path_to_labels = \"pipeline/text-based/data/test\"\n",
    "base_path_best_model_preds = \"pipeline/text-based/results/roberta-base_predictions.csv\"\n",
    "performance_baseline = process_predictions(get_labels(baseline_path_to_labels), base_path_best_model_preds)"
   ]
  },
  {
   "cell_type": "code",
   "execution_count": 9,
   "metadata": {},
   "outputs": [],
   "source": [
    "# ARG\n",
    "best_models_margot = {\n",
    "    'claim': 'pipeline/argumentation-based/results/margot/claim/google_predictions.csv',\n",
    "    'evidence': 'pipeline/argumentation-based/results/margot/evidence/distilbert-base-uncased_predictions.csv',\n",
    "    'structure': 'pipeline/argumentation-based/results/margot/structure/google_predictions.csv'\n",
    "}\n",
    "\n",
    "best_models_dolly = {\n",
    "    'claim': 'pipeline/argumentation-based/results/dolly/claim/google_predictions.csv',\n",
    "    'evidence': 'pipeline/argumentation-based/results/dolly/evidence/distilbert-base-uncased_predictions.csv',\n",
    "    'structure': 'pipeline/argumentation-based/results/dolly/structure/roberta-base_predictions.csv'\n",
    "}"
   ]
  },
  {
   "cell_type": "code",
   "execution_count": 10,
   "metadata": {},
   "outputs": [],
   "source": [
    "def per_component(path_to_labels, best_models):\n",
    "    performance = {}\n",
    "    df_labels = get_labels(path_to_labels)\n",
    "\n",
    "    for comp in ['structure', 'claim', 'evidence']:\n",
    "        f1_scores = process_predictions(df_labels, best_models[comp])\n",
    "        performance[comp] = f1_scores\n",
    "    return performance"
   ]
  },
  {
   "cell_type": "code",
   "execution_count": 11,
   "metadata": {},
   "outputs": [
    {
     "name": "stdout",
     "output_type": "stream",
     "text": [
      "Short 130 0.731958762886598\n",
      "Medium 58 0.9310344827586207\n",
      "Long 171 0.9608938547486033\n",
      "Short 130 0.7326732673267327\n",
      "Medium 58 0.7088607594936709\n",
      "Long 171 0.7867298578199051\n",
      "Short 130 0.6341463414634146\n",
      "Medium 58 0.9152542372881356\n",
      "Long 171 0.9617486338797815\n",
      "Short 242 0.7147335423197492\n",
      "Medium 58 0.8181818181818182\n",
      "Long 143 0.8296296296296296\n",
      "Short 242 0.702127659574468\n",
      "Medium 58 0.7619047619047619\n",
      "Long 143 0.7972027972027972\n",
      "Short 242 0.7077922077922079\n",
      "Medium 58 0.7391304347826089\n",
      "Long 143 0.8270676691729324\n"
     ]
    },
    {
     "data": {
      "image/png": "[encoded data removed]",
      "text/plain": [
       "<Figure size 640x480 with 2 Axes>"
      ]
     },
     "metadata": {},
     "output_type": "display_data"
    }
   ],
   "source": [
    "# Add MARGOT \n",
    "path_to_labels = \"pipeline/argumentation-based/argumentation structure\"\n",
    "\n",
    "performance_margot = per_component(f\"{path_to_labels}/margot/test\", best_models_margot)\n",
    "performance_dolly = per_component(f\"{path_to_labels}/dolly/test\", best_models_dolly)\n",
    "\n",
    "with open('perf_margot.json', 'w') as json_file:\n",
    "    json.dump(performance_margot, json_file, indent=4)\n",
    "\n",
    "with open('perf_dolly.json', 'w') as json_file:\n",
    "    json.dump(performance_dolly, json_file, indent=4)\n",
    "\n",
    "fig, ax = plt.subplots(1, 2)\n",
    "\n",
    "ax[0] = plot_lines(performance_dolly, ax[0])\n",
    "ax[1] = plot_lines(performance_margot, ax[1])\n",
    "\n"
   ]
  },
  {
   "cell_type": "code",
   "execution_count": 55,
   "metadata": {},
   "outputs": [
    {
     "data": {
      "image/png": "[encoded data removed]",
      "text/plain": [
       "<Figure size 600x400 with 1 Axes>"
      ]
     },
     "metadata": {},
     "output_type": "display_data"
    }
   ],
   "source": [
    "# BASELINE + MARGOT \n",
    "sns.set_style(\"white\")\n",
    "sns.set_context('paper')\n",
    "\n",
    "plt.figure(figsize=(6, 4))\n",
    "ax = sns.lineplot(performance_baseline, marker='o',linestyle='--', color=\"black\", markersize=5, label='Baseline')\n",
    "ax.set_xticks(range(len(performance_baseline)))\n",
    "ax.set_xticklabels(['Short', 'Medium', 'Long'])\n",
    "ax.set(xlabel='Text length', ylabel='F1')\n",
    "ax.set(title=\"MARGOT\")\n",
    "\n",
    "palette = sns.color_palette(\"Set2\")\n",
    "\n",
    "for i, (label, data) in enumerate(performance_margot.items()):\n",
    "    sns.lineplot(x=[0, 1, 2], y=data, marker='D', label=label.capitalize(), markersize=5, ax=ax, color=palette[i])\n",
    "\n",
    "# plt.show()\n",
    "\n",
    "plt.savefig(\"margot_text_length.png\")"
   ]
  },
  {
   "cell_type": "code",
   "execution_count": 53,
   "metadata": {},
   "outputs": [
    {
     "data": {
      "image/png": "[encoded data removed]",
      "text/plain": [
       "<Figure size 600x400 with 1 Axes>"
      ]
     },
     "metadata": {},
     "output_type": "display_data"
    }
   ],
   "source": [
    "# Baseline + Dolly\n",
    "sns.set_style(\"white\")\n",
    "sns.set_context('paper')\n",
    "\n",
    "plt.figure(figsize=(6, 4))\n",
    "ax = sns.lineplot(performance_baseline, marker='o',linestyle='--', color=\"black\", markersize=5, label='Baseline')\n",
    "ax.set_xticks(range(len(performance_baseline)))\n",
    "ax.set(title=\"Dolly 2.0\")\n",
    "ax.set_xticklabels(['Short', 'Medium', 'Long'])\n",
    "ax.set(xlabel='Text length', ylabel='F1')\n",
    "\n",
    "palette = sns.color_palette(\"Set2\")\n",
    "\n",
    "for i, (label, data) in enumerate(performance_dolly.items()):\n",
    "    sns.lineplot(x=[0, 1, 2], y=data, marker='D', label=label.capitalize(), markersize=5, ax=ax, color=palette[i])\n",
    "\n",
    "# plt.show()\n",
    "plt.savefig(\"dolly_text_length.png\")"
   ]
  },
  {
   "attachments": {},
   "cell_type": "markdown",
   "metadata": {},
   "source": [
    "### Visualization on **validation** set"
   ]
  },
  {
   "cell_type": "code",
   "execution_count": null,
   "metadata": {},
   "outputs": [],
   "source": [
    "MODE = 'argumentation-based'\n",
    "if MODE == 'argumentation-based':\n",
    "    TOOL = 'margot'\n",
    "    ELEMENT = 'structure'\n",
    "\n",
    "    input_path = f\"models/{MODE}/{TOOL}/{ELEMENT}/training/\"\n",
    "    output_path = f'pipeline/{MODE}/results/figures/{TOOL}_{ELEMENT}.png'\n",
    "else:\n",
    "    input_path = f\"models/{MODE}/training/\"\n",
    "    output_path = f'pipeline/{MODE}/results/figures/baseline.png'"
   ]
  },
  {
   "cell_type": "code",
   "execution_count": null,
   "metadata": {},
   "outputs": [],
   "source": [
    "# Plot results baseline\n",
    "\n",
    "res = defaultdict(dict)\n",
    "x_values, y_values, hue_values = [], [], []\n",
    "\n",
    "for root, dirs, files in os.walk(input_path):\n",
    "    mets = []\n",
    "    for file in files:\n",
    "\n",
    "        # Look for trainer_state.json files for all models except for ELMo \n",
    "        if file == 'trainer_state.json':\n",
    "            # PREPARE FOR TABLE\n",
    "            metrics = {}\n",
    "\n",
    "            model_name = os.path.basename(os.path.dirname(os.path.dirname(root)))\n",
    "            dataset = os.path.basename(os.path.dirname(root))\n",
    "            trainer_state = os.path.join(root, file)\n",
    "\n",
    "            with open(trainer_state) as f:\n",
    "                data = json.load(f)\n",
    "\n",
    "            f1 = data[\"log_history\"][1][\"eval_f1\"]\n",
    "            accuracy = data[\"log_history\"][1][\"eval_accuracy\"]\n",
    "            recall = data[\"log_history\"][1][\"eval_recall\"]\n",
    "            precision = data[\"log_history\"][1][\"eval_precision\"]\n",
    "\n",
    "            metrics['F1'] = \"{:.2f}\".format(f1)\n",
    "            metrics['Accuracy'] = \"{:.2f}\".format(accuracy)\n",
    "            metrics['Recall'] = \"{:.2f}\".format(recall)\n",
    "            metrics['Precision'] = \"{:.2f}\".format(precision)\n",
    "\n",
    "            res[models[model_name]][datasets[dataset]] = metrics\n",
    "\n",
    "            # PREPARE FOR CHART \n",
    "            x_values.append(models[model_name])\n",
    "            hue_values.append(datasets[dataset])\n",
    "            y_values.append(float(\"{:.2f}\".format(f1)))\n",
    "\n",
    "        # Prepare doing the same for ELMo\n",
    "        if 'elmo' in os.path.dirname(root):\n",
    "            if file.endswith('.json'):\n",
    "                mets.append(file)    \n",
    "    \n",
    "    # All ELMo from here\n",
    "    mets_sorted = sorted(mets, key=lambda x: int(x.split(\".\")[0][-1]), reverse=True) # Only keep best EPOCH\n",
    "\n",
    "    if mets_sorted:\n",
    "        metrics = {}\n",
    "        model_name = os.path.basename(os.path.dirname(root))\n",
    "        dataset = os.path.basename(root)\n",
    "        best_metric = mets_sorted[0]\n",
    "        best_mets_file = os.path.join(root, best_metric)\n",
    "\n",
    "        with open(best_mets_file) as f:\n",
    "            data = json.load(f)\n",
    "        \n",
    "        f1 = data[\"best_validation_f1\"]\n",
    "        accuracy = data[\"best_validation_accuracy\"]\n",
    "        precision = data[\"best_validation_precision\"]\n",
    "        recall = data[\"best_validation_recall\"]\n",
    "\n",
    "        metrics['Accuracy'] = \"{:.2f}\".format(accuracy)\n",
    "        metrics['Precision'] = \"{:.2f}\".format(precision)\n",
    "        metrics['Recall'] = \"{:.2f}\".format(recall)\n",
    "        metrics['F1'] = \"{:.2f}\".format(f1)\n",
    "\n",
    "        \n",
    "        res[models[model_name]][datasets[dataset]] = metrics\n",
    "\n",
    "        # PREPARE FOR CHART\n",
    "        x_values.append(models[model_name])\n",
    "        hue_values.append(datasets[dataset])   \n",
    "        y_values.append(float(\"{:.2f}\".format(f1)))"
   ]
  },
  {
   "cell_type": "code",
   "execution_count": null,
   "metadata": {},
   "outputs": [],
   "source": [
    "res"
   ]
  },
  {
   "cell_type": "code",
   "execution_count": null,
   "metadata": {},
   "outputs": [],
   "source": [
    "# F1 table only\n",
    "index = res.keys()\n",
    "values = []\n",
    "cols = []\n",
    "\n",
    "for model_name, d in res.items():\n",
    "    tmp_cols = []\n",
    "\n",
    "    for dataset, scores in d.items():\n",
    "        for metric, score in scores.items():\n",
    "            if metric == 'F1':\n",
    "                values.append(score)\n",
    "                tmp_cols.append((dataset, metric))\n",
    "\n",
    "cols.append(tmp_cols)\n",
    "\n",
    "# Flatten columns\n",
    "cols = sum(cols, [])\n",
    "\n",
    "multi_index = pd.MultiIndex.from_tuples(cols)\n",
    "\n",
    "# Reshape the values\n",
    "reshaped_values = np.array(values).reshape(-1, len(index))  \n",
    "\n",
    "df = pd.DataFrame(reshaped_values, index=multi_index, columns=index)\n",
    "df = df.T\n",
    "\n",
    "df = df.reindex(index=['BERT', 'RoBERTa', 'DistilBERT', 'ELECTRA', 'ELMo'])\n",
    "\n",
    "print(df.to_latex())"
   ]
  },
  {
   "cell_type": "code",
   "execution_count": null,
   "metadata": {},
   "outputs": [],
   "source": [
    "# Full table (A, P, R, F1)\n",
    "# Create table with 2 level index (dataset, metric), columns are the models, values are the scores\n",
    "reformed = []\n",
    "for k, v in res.items():\n",
    "    x = {(outerKey, innerKey): values for outerKey, innerDict in v.items() for innerKey, values in innerDict.items()}\n",
    "    y = pd.DataFrame(x, index=[k])\n",
    "    reformed.append(y)\n",
    "\n",
    "df = pd.concat(reformed)\n",
    "df = df.reindex(index=['BERT', 'RoBERTa', 'DistilBERT', 'ELECTRA', 'ELMo'])\n",
    "df\n"
   ]
  },
  {
   "cell_type": "code",
   "execution_count": null,
   "metadata": {},
   "outputs": [],
   "source": [
    "# For thesis\n",
    "print(df.to_latex())"
   ]
  },
  {
   "cell_type": "code",
   "execution_count": null,
   "metadata": {},
   "outputs": [],
   "source": [
    "sns.set_style(\"whitegrid\")\n",
    "sns.set_context('paper')\n",
    "\n",
    "plt.figure(figsize=(6, 4))\n",
    "\n",
    "ax = sns.barplot(x=x_values, y=y_values, hue=hue_values, palette=\"deep\")\n",
    "sns.move_legend(ax, \"lower center\", \n",
    "    bbox_to_anchor=(.5, 1), ncol=4, title=None, frameon=False)\n",
    "\n",
    "ax.set_yticks(list(np.arange(0,1.1,0.1)))\n",
    "plt.ylabel('F1')\n",
    "\n",
    "plt.savefig(f\"{output_path}.png\")"
   ]
  },
  {
   "attachments": {},
   "cell_type": "markdown",
   "metadata": {},
   "source": [
    "### Visualisation on **test** set"
   ]
  },
  {
   "attachments": {},
   "cell_type": "markdown",
   "metadata": {},
   "source": [
    "#### Baseline pipeline"
   ]
  },
  {
   "cell_type": "code",
   "execution_count": 23,
   "metadata": {},
   "outputs": [
    {
     "name": "stdout",
     "output_type": "stream",
     "text": [
      "{'google': {'accuracy': 0.7301587301587301, 'precision': 0.6819923371647509, 'recall': 0.8317757009345794, 'f1': 0.7494736842105263}, 'roberta-base': {'accuracy': 0.7414965986394558, 'precision': 0.6865671641791045, 'recall': 0.8598130841121495, 'f1': 0.7634854771784233}, 'bert-base-uncased': {'accuracy': 0.7505668934240363, 'precision': 0.7921348314606742, 'recall': 0.6588785046728972, 'f1': 0.7193877551020409}, 'distilbert-base-uncased': {'accuracy': 0.7346938775510204, 'precision': 0.702928870292887, 'recall': 0.7850467289719626, 'f1': 0.7417218543046358}}\n"
     ]
    }
   ],
   "source": [
    "# Concat inference results\n",
    "path_to_baseline_performance = \"/home/mkersten/fake_news/pipeline/text-based/results/json/performance_test.json\"\n",
    "\n",
    "with open(path_to_baseline_performance) as json_file:\n",
    "    performance = json.load(json_file)\n",
    "print(performance)"
   ]
  },
  {
   "cell_type": "code",
   "execution_count": 42,
   "metadata": {},
   "outputs": [
    {
     "name": "stdout",
     "output_type": "stream",
     "text": [
      "\\begin{tabular}{lllll}\n",
      "\\toprule\n",
      " & Accuracy & Precision & Recall & F1 \\\\\n",
      "\\midrule\n",
      "ELECTRA & 0.73 & 0.68 & 0.83 & 0.75 \\\\\n",
      "RoBERTa & 0.74 & 0.69 & 0.86 & 0.76 \\\\\n",
      "BERT & 0.75 & 0.79 & 0.66 & 0.72 \\\\\n",
      "DistilBERT & 0.73 & 0.70 & 0.79 & 0.74 \\\\\n",
      "\\bottomrule\n",
      "\\end{tabular}\n",
      "\n"
     ]
    }
   ],
   "source": [
    "idx = [models[i] for i in performance]\n",
    "values = [[\"{:.2f}\".format(performance[i][j]) for j in performance[i]] for i in performance]\n",
    "\n",
    "df = pd.DataFrame(values, index=idx, columns=['Accuracy', 'Precision', 'Recall', 'F1'])\n",
    "print(df.to_latex())"
   ]
  },
  {
   "attachments": {},
   "cell_type": "markdown",
   "metadata": {},
   "source": [
    "#### Argumentation-based pipeline"
   ]
  },
  {
   "cell_type": "code",
   "execution_count": 106,
   "metadata": {},
   "outputs": [
    {
     "name": "stdout",
     "output_type": "stream",
     "text": [
      "{'evidence': {'google': {'accuracy': 0.6839729119638827, 'precision': 0.6193548387096774, 'recall': 0.897196261682243, 'f1': 0.7328244274809161}, 'roberta-base': {'accuracy': 0.6884875846501128, 'precision': 0.6301369863013698, 'recall': 0.8598130841121495, 'f1': 0.7272727272727273}, 'bert-base-uncased': {'accuracy': 0.708803611738149, 'precision': 0.6679841897233202, 'recall': 0.7897196261682243, 'f1': 0.7237687366167025}, 'distilbert-base-uncased': {'accuracy': 0.7178329571106095, 'precision': 0.663003663003663, 'recall': 0.8457943925233645, 'f1': 0.7433264887063654}}, 'claim': {'google': {'accuracy': 0.7223476297968398, 'precision': 0.6798418972332015, 'recall': 0.8037383177570093, 'f1': 0.7366167023554603}, 'roberta-base': {'accuracy': 0.7065462753950339, 'precision': 0.7142857142857143, 'recall': 0.6542056074766355, 'f1': 0.6829268292682927}, 'bert-base-uncased': {'accuracy': 0.6975169300225733, 'precision': 0.6538461538461539, 'recall': 0.794392523364486, 'f1': 0.7172995780590717}, 'distilbert-base-uncased': {'accuracy': 0.6862302483069977, 'precision': 0.6325088339222615, 'recall': 0.8364485981308412, 'f1': 0.7203219315895373}}, 'structure': {'google': {'accuracy': 0.7155756207674944, 'precision': 0.7115384615384616, 'recall': 0.6915887850467289, 'f1': 0.7014218009478673}, 'roberta-base': {'accuracy': 0.7246049661399548, 'precision': 0.6619718309859155, 'recall': 0.8785046728971962, 'f1': 0.7550200803212852}, 'bert-base-uncased': {'accuracy': 0.7065462753950339, 'precision': 0.6381578947368421, 'recall': 0.9065420560747663, 'f1': 0.749034749034749}, 'distilbert-base-uncased': {'accuracy': 0.7133182844243793, 'precision': 0.6804979253112033, 'recall': 0.7663551401869159, 'f1': 0.7208791208791209}}}\n"
     ]
    }
   ],
   "source": [
    "# Concat inference results\n",
    "path_to_dolly = \"pipeline/argumentation-based/results/dolly\"\n",
    "\n",
    "performance_dolly = {}\n",
    "for component_name in os.listdir(path_to_dolly):\n",
    "    path_to_json = f\"{path_to_dolly}/{component_name}/json\"\n",
    "    for f in os.listdir(path_to_json):\n",
    "        path = os.path.join(path_to_json, f)\n",
    "        with open(path) as f:\n",
    "            json_results = json.load(f)\n",
    "            performance_dolly[component_name] = json_results\n",
    "print(performance_dolly)"
   ]
  },
  {
   "cell_type": "code",
   "execution_count": 108,
   "metadata": {},
   "outputs": [
    {
     "name": "stdout",
     "output_type": "stream",
     "text": [
      "{'evidence': {'google': {'accuracy': 0.8022284122562674, 'precision': 0.7510204081632653, 'recall': 0.9484536082474226, 'f1': 0.8382687927107062}, 'roberta-base': {'accuracy': 0.8245125348189415, 'precision': 0.896969696969697, 'recall': 0.7628865979381443, 'f1': 0.8245125348189414}, 'bert-base-uncased': {'accuracy': 0.8328690807799443, 'precision': 0.8850574712643678, 'recall': 0.7938144329896907, 'f1': 0.8369565217391305}, 'distilbert-base-uncased': {'accuracy': 0.841225626740947, 'precision': 0.9005847953216374, 'recall': 0.7938144329896907, 'f1': 0.843835616438356}}, 'claim': {'google': {'accuracy': 0.6601671309192201, 'precision': 0.6208053691275168, 'recall': 0.9536082474226805, 'f1': 0.7520325203252032}, 'roberta-base': {'accuracy': 0.6434540389972145, 'precision': 0.6170212765957447, 'recall': 0.8969072164948454, 'f1': 0.73109243697479}, 'bert-base-uncased': {'accuracy': 0.6573816155988857, 'precision': 0.6263345195729537, 'recall': 0.9072164948453608, 'f1': 0.7410526315789474}, 'distilbert-base-uncased': {'accuracy': 0.6573816155988857, 'precision': 0.6254416961130742, 'recall': 0.9123711340206185, 'f1': 0.7421383647798744}}, 'structure': {'google': {'accuracy': 0.8245125348189415, 'precision': 0.7763713080168776, 'recall': 0.9484536082474226, 'f1': 0.853828306264501}, 'roberta-base': {'accuracy': 0.8384401114206128, 'precision': 0.9197530864197531, 'recall': 0.7680412371134021, 'f1': 0.8370786516853933}, 'bert-base-uncased': {'accuracy': 0.8328690807799443, 'precision': 0.8764044943820225, 'recall': 0.8041237113402062, 'f1': 0.8387096774193549}, 'distilbert-base-uncased': {'accuracy': 0.8245125348189415, 'precision': 0.8502673796791443, 'recall': 0.8195876288659794, 'f1': 0.8346456692913384}}}\n"
     ]
    }
   ],
   "source": [
    "path_to_margot = \"pipeline/argumentation-based/results/margot\"\n",
    "\n",
    "performance_margot = {}\n",
    "for component_name in os.listdir(path_to_dolly):\n",
    "    path_to_json = f\"{path_to_margot}/{component_name}/json\"\n",
    "    for f in os.listdir(path_to_json):\n",
    "        path = os.path.join(path_to_json, f)\n",
    "        with open(path) as f:\n",
    "            json_results = json.load(f)\n",
    "            performance_margot[component_name] = json_results\n",
    "print(performance_margot)"
   ]
  },
  {
   "cell_type": "code",
   "execution_count": 109,
   "metadata": {},
   "outputs": [
    {
     "data": {
      "text/html": [
       "<div>\n",
       "<style scoped>\n",
       "    .dataframe tbody tr th:only-of-type {\n",
       "        vertical-align: middle;\n",
       "    }\n",
       "\n",
       "    .dataframe tbody tr th {\n",
       "        vertical-align: top;\n",
       "    }\n",
       "\n",
       "    .dataframe thead tr th {\n",
       "        text-align: left;\n",
       "    }\n",
       "</style>\n",
       "<table border=\"1\" class=\"dataframe\">\n",
       "  <thead>\n",
       "    <tr>\n",
       "      <th>component</th>\n",
       "      <th colspan=\"4\" halign=\"left\">evidence</th>\n",
       "      <th colspan=\"4\" halign=\"left\">claim</th>\n",
       "      <th colspan=\"4\" halign=\"left\">structure</th>\n",
       "    </tr>\n",
       "    <tr>\n",
       "      <th>metric</th>\n",
       "      <th>A</th>\n",
       "      <th>P</th>\n",
       "      <th>R</th>\n",
       "      <th>F1</th>\n",
       "      <th>A</th>\n",
       "      <th>P</th>\n",
       "      <th>R</th>\n",
       "      <th>F1</th>\n",
       "      <th>A</th>\n",
       "      <th>P</th>\n",
       "      <th>R</th>\n",
       "      <th>F1</th>\n",
       "    </tr>\n",
       "  </thead>\n",
       "  <tbody>\n",
       "    <tr>\n",
       "      <th>ELECTRA</th>\n",
       "      <td>0.68</td>\n",
       "      <td>0.62</td>\n",
       "      <td>0.90</td>\n",
       "      <td>0.73</td>\n",
       "      <td>0.69</td>\n",
       "      <td>0.63</td>\n",
       "      <td>0.86</td>\n",
       "      <td>0.73</td>\n",
       "      <td>0.71</td>\n",
       "      <td>0.67</td>\n",
       "      <td>0.79</td>\n",
       "      <td>0.72</td>\n",
       "    </tr>\n",
       "    <tr>\n",
       "      <th>RoBERTa</th>\n",
       "      <td>0.72</td>\n",
       "      <td>0.66</td>\n",
       "      <td>0.85</td>\n",
       "      <td>0.74</td>\n",
       "      <td>0.72</td>\n",
       "      <td>0.68</td>\n",
       "      <td>0.80</td>\n",
       "      <td>0.74</td>\n",
       "      <td>0.71</td>\n",
       "      <td>0.71</td>\n",
       "      <td>0.65</td>\n",
       "      <td>0.68</td>\n",
       "    </tr>\n",
       "    <tr>\n",
       "      <th>BERT</th>\n",
       "      <td>0.70</td>\n",
       "      <td>0.65</td>\n",
       "      <td>0.79</td>\n",
       "      <td>0.72</td>\n",
       "      <td>0.69</td>\n",
       "      <td>0.63</td>\n",
       "      <td>0.84</td>\n",
       "      <td>0.72</td>\n",
       "      <td>0.72</td>\n",
       "      <td>0.71</td>\n",
       "      <td>0.69</td>\n",
       "      <td>0.70</td>\n",
       "    </tr>\n",
       "    <tr>\n",
       "      <th>DistilBERT</th>\n",
       "      <td>0.72</td>\n",
       "      <td>0.66</td>\n",
       "      <td>0.88</td>\n",
       "      <td>0.76</td>\n",
       "      <td>0.71</td>\n",
       "      <td>0.64</td>\n",
       "      <td>0.91</td>\n",
       "      <td>0.75</td>\n",
       "      <td>0.71</td>\n",
       "      <td>0.68</td>\n",
       "      <td>0.77</td>\n",
       "      <td>0.72</td>\n",
       "    </tr>\n",
       "  </tbody>\n",
       "</table>\n",
       "</div>"
      ],
      "text/plain": [
       "component  evidence                   claim                   structure        \\\n",
       "metric            A     P     R    F1     A     P     R    F1         A     P   \n",
       "ELECTRA        0.68  0.62  0.90  0.73  0.69  0.63  0.86  0.73      0.71  0.67   \n",
       "RoBERTa        0.72  0.66  0.85  0.74  0.72  0.68  0.80  0.74      0.71  0.71   \n",
       "BERT           0.70  0.65  0.79  0.72  0.69  0.63  0.84  0.72      0.72  0.71   \n",
       "DistilBERT     0.72  0.66  0.88  0.76  0.71  0.64  0.91  0.75      0.71  0.68   \n",
       "\n",
       "component               \n",
       "metric         R    F1  \n",
       "ELECTRA     0.79  0.72  \n",
       "RoBERTa     0.65  0.68  \n",
       "BERT        0.69  0.70  \n",
       "DistilBERT  0.77  0.72  "
      ]
     },
     "metadata": {},
     "output_type": "display_data"
    },
    {
     "name": "stdout",
     "output_type": "stream",
     "text": [
      "\\begin{tabular}{lllllllllllll}\n",
      "\\toprule\n",
      "component & \\multicolumn{4}{r}{evidence} & \\multicolumn{4}{r}{claim} & \\multicolumn{4}{r}{structure} \\\\\n",
      "metric & A & P & R & F1 & A & P & R & F1 & A & P & R & F1 \\\\\n",
      "\\midrule\n",
      "ELECTRA & 0.68 & 0.62 & 0.90 & 0.73 & 0.69 & 0.63 & 0.86 & 0.73 & 0.71 & 0.67 & 0.79 & 0.72 \\\\\n",
      "RoBERTa & 0.72 & 0.66 & 0.85 & 0.74 & 0.72 & 0.68 & 0.80 & 0.74 & 0.71 & 0.71 & 0.65 & 0.68 \\\\\n",
      "BERT & 0.70 & 0.65 & 0.79 & 0.72 & 0.69 & 0.63 & 0.84 & 0.72 & 0.72 & 0.71 & 0.69 & 0.70 \\\\\n",
      "DistilBERT & 0.72 & 0.66 & 0.88 & 0.76 & 0.71 & 0.64 & 0.91 & 0.75 & 0.71 & 0.68 & 0.77 & 0.72 \\\\\n",
      "\\bottomrule\n",
      "\\end{tabular}\n",
      "\n"
     ]
    }
   ],
   "source": [
    "# Dolly: Full table (A, P, R, F1)\n",
    "cols, values = [], []\n",
    "for i in performance_dolly:\n",
    "    tmp_col, idx = [], []\n",
    "    for k, v in performance_dolly[i].items():\n",
    "\n",
    "        idx.append(models[k])\n",
    "\n",
    "        metric = [(i,metrics[j]) for j in performance_dolly[i][k]]\n",
    "        value = [(performance_dolly[i][k][j]) for j in performance_dolly[i][k]]\n",
    "        for a, b in performance_dolly[i][k].items():\n",
    "            value = \"{:.2f}\".format(b)\n",
    "            values.append(value)\n",
    "\n",
    "    cols.append(metric)\n",
    "\n",
    "cols = sum(cols, [])\n",
    "multi_columns = pd.MultiIndex.from_tuples(cols, names=['component', 'metric'])\n",
    "reshaped_values = np.array(values).reshape(-1, 12)  \n",
    "df_dolly = pd.DataFrame(reshaped_values, index=idx, columns=multi_columns)\n",
    "display(df_dolly)\n",
    "print(df_dolly.to_latex())"
   ]
  },
  {
   "cell_type": "code",
   "execution_count": 111,
   "metadata": {},
   "outputs": [
    {
     "data": {
      "text/html": [
       "<div>\n",
       "<style scoped>\n",
       "    .dataframe tbody tr th:only-of-type {\n",
       "        vertical-align: middle;\n",
       "    }\n",
       "\n",
       "    .dataframe tbody tr th {\n",
       "        vertical-align: top;\n",
       "    }\n",
       "\n",
       "    .dataframe thead tr th {\n",
       "        text-align: left;\n",
       "    }\n",
       "</style>\n",
       "<table border=\"1\" class=\"dataframe\">\n",
       "  <thead>\n",
       "    <tr>\n",
       "      <th>component</th>\n",
       "      <th colspan=\"4\" halign=\"left\">evidence</th>\n",
       "      <th colspan=\"4\" halign=\"left\">claim</th>\n",
       "      <th colspan=\"4\" halign=\"left\">structure</th>\n",
       "    </tr>\n",
       "    <tr>\n",
       "      <th>metric</th>\n",
       "      <th>A</th>\n",
       "      <th>P</th>\n",
       "      <th>R</th>\n",
       "      <th>F1</th>\n",
       "      <th>A</th>\n",
       "      <th>P</th>\n",
       "      <th>R</th>\n",
       "      <th>F1</th>\n",
       "      <th>A</th>\n",
       "      <th>P</th>\n",
       "      <th>R</th>\n",
       "      <th>F1</th>\n",
       "    </tr>\n",
       "  </thead>\n",
       "  <tbody>\n",
       "    <tr>\n",
       "      <th>ELECTRA</th>\n",
       "      <td>0.80</td>\n",
       "      <td>0.75</td>\n",
       "      <td>0.95</td>\n",
       "      <td>0.84</td>\n",
       "      <td>0.82</td>\n",
       "      <td>0.90</td>\n",
       "      <td>0.76</td>\n",
       "      <td>0.82</td>\n",
       "      <td>0.83</td>\n",
       "      <td>0.89</td>\n",
       "      <td>0.79</td>\n",
       "      <td>0.84</td>\n",
       "    </tr>\n",
       "    <tr>\n",
       "      <th>RoBERTa</th>\n",
       "      <td>0.84</td>\n",
       "      <td>0.90</td>\n",
       "      <td>0.79</td>\n",
       "      <td>0.84</td>\n",
       "      <td>0.66</td>\n",
       "      <td>0.62</td>\n",
       "      <td>0.95</td>\n",
       "      <td>0.75</td>\n",
       "      <td>0.64</td>\n",
       "      <td>0.62</td>\n",
       "      <td>0.90</td>\n",
       "      <td>0.73</td>\n",
       "    </tr>\n",
       "    <tr>\n",
       "      <th>BERT</th>\n",
       "      <td>0.66</td>\n",
       "      <td>0.63</td>\n",
       "      <td>0.91</td>\n",
       "      <td>0.74</td>\n",
       "      <td>0.66</td>\n",
       "      <td>0.63</td>\n",
       "      <td>0.91</td>\n",
       "      <td>0.74</td>\n",
       "      <td>0.82</td>\n",
       "      <td>0.78</td>\n",
       "      <td>0.95</td>\n",
       "      <td>0.85</td>\n",
       "    </tr>\n",
       "    <tr>\n",
       "      <th>DistilBERT</th>\n",
       "      <td>0.84</td>\n",
       "      <td>0.92</td>\n",
       "      <td>0.77</td>\n",
       "      <td>0.84</td>\n",
       "      <td>0.83</td>\n",
       "      <td>0.88</td>\n",
       "      <td>0.80</td>\n",
       "      <td>0.84</td>\n",
       "      <td>0.82</td>\n",
       "      <td>0.85</td>\n",
       "      <td>0.82</td>\n",
       "      <td>0.83</td>\n",
       "    </tr>\n",
       "  </tbody>\n",
       "</table>\n",
       "</div>"
      ],
      "text/plain": [
       "component  evidence                   claim                   structure        \\\n",
       "metric            A     P     R    F1     A     P     R    F1         A     P   \n",
       "ELECTRA        0.80  0.75  0.95  0.84  0.82  0.90  0.76  0.82      0.83  0.89   \n",
       "RoBERTa        0.84  0.90  0.79  0.84  0.66  0.62  0.95  0.75      0.64  0.62   \n",
       "BERT           0.66  0.63  0.91  0.74  0.66  0.63  0.91  0.74      0.82  0.78   \n",
       "DistilBERT     0.84  0.92  0.77  0.84  0.83  0.88  0.80  0.84      0.82  0.85   \n",
       "\n",
       "component               \n",
       "metric         R    F1  \n",
       "ELECTRA     0.79  0.84  \n",
       "RoBERTa     0.90  0.73  \n",
       "BERT        0.95  0.85  \n",
       "DistilBERT  0.82  0.83  "
      ]
     },
     "metadata": {},
     "output_type": "display_data"
    },
    {
     "name": "stdout",
     "output_type": "stream",
     "text": [
      "\\begin{tabular}{lllllllllllll}\n",
      "\\toprule\n",
      "component & \\multicolumn{4}{r}{evidence} & \\multicolumn{4}{r}{claim} & \\multicolumn{4}{r}{structure} \\\\\n",
      "metric & A & P & R & F1 & A & P & R & F1 & A & P & R & F1 \\\\\n",
      "\\midrule\n",
      "ELECTRA & 0.80 & 0.75 & 0.95 & 0.84 & 0.82 & 0.90 & 0.76 & 0.82 & 0.83 & 0.89 & 0.79 & 0.84 \\\\\n",
      "RoBERTa & 0.84 & 0.90 & 0.79 & 0.84 & 0.66 & 0.62 & 0.95 & 0.75 & 0.64 & 0.62 & 0.90 & 0.73 \\\\\n",
      "BERT & 0.66 & 0.63 & 0.91 & 0.74 & 0.66 & 0.63 & 0.91 & 0.74 & 0.82 & 0.78 & 0.95 & 0.85 \\\\\n",
      "DistilBERT & 0.84 & 0.92 & 0.77 & 0.84 & 0.83 & 0.88 & 0.80 & 0.84 & 0.82 & 0.85 & 0.82 & 0.83 \\\\\n",
      "\\bottomrule\n",
      "\\end{tabular}\n",
      "\n"
     ]
    }
   ],
   "source": [
    "# MARGOT: Full table (A, P, R, F1)\n",
    "cols, values = [], []\n",
    "for i in performance_margot:\n",
    "    tmp_col, idx = [], []\n",
    "    for k, v in performance_margot[i].items():\n",
    "\n",
    "        idx.append(models[k])\n",
    "\n",
    "        metric = [(i,metrics[j]) for j in performance_margot[i][k]]\n",
    "        value = [(performance_margot[i][k][j]) for j in performance_margot[i][k]]\n",
    "        for a, b in performance_margot[i][k].items():\n",
    "            value = \"{:.2f}\".format(b)\n",
    "            values.append(value)\n",
    "\n",
    "    cols.append(metric)\n",
    "\n",
    "cols = sum(cols, [])\n",
    "multi_columns = pd.MultiIndex.from_tuples(cols, names=['component', 'metric'])\n",
    "reshaped_values = np.array(values).reshape(-1, 12)  \n",
    "df_margot = pd.DataFrame(reshaped_values, index=idx, columns=multi_columns)\n",
    "display(df_margot)\n",
    "print(df_margot.to_latex())"
   ]
  },
  {
   "cell_type": "code",
   "execution_count": 112,
   "metadata": {},
   "outputs": [
    {
     "data": {
      "text/html": [
       "<div>\n",
       "<style scoped>\n",
       "    .dataframe tbody tr th:only-of-type {\n",
       "        vertical-align: middle;\n",
       "    }\n",
       "\n",
       "    .dataframe tbody tr th {\n",
       "        vertical-align: top;\n",
       "    }\n",
       "\n",
       "    .dataframe thead tr th {\n",
       "        text-align: left;\n",
       "    }\n",
       "</style>\n",
       "<table border=\"1\" class=\"dataframe\">\n",
       "  <thead>\n",
       "    <tr>\n",
       "      <th>component</th>\n",
       "      <th colspan=\"4\" halign=\"left\">evidence</th>\n",
       "      <th colspan=\"4\" halign=\"left\">claim</th>\n",
       "      <th colspan=\"2\" halign=\"left\">structure</th>\n",
       "      <th>...</th>\n",
       "      <th colspan=\"2\" halign=\"left\">evidence</th>\n",
       "      <th colspan=\"4\" halign=\"left\">claim</th>\n",
       "      <th colspan=\"4\" halign=\"left\">structure</th>\n",
       "    </tr>\n",
       "    <tr>\n",
       "      <th>metric</th>\n",
       "      <th>A</th>\n",
       "      <th>P</th>\n",
       "      <th>R</th>\n",
       "      <th>F1</th>\n",
       "      <th>A</th>\n",
       "      <th>P</th>\n",
       "      <th>R</th>\n",
       "      <th>F1</th>\n",
       "      <th>A</th>\n",
       "      <th>P</th>\n",
       "      <th>...</th>\n",
       "      <th>R</th>\n",
       "      <th>F1</th>\n",
       "      <th>A</th>\n",
       "      <th>P</th>\n",
       "      <th>R</th>\n",
       "      <th>F1</th>\n",
       "      <th>A</th>\n",
       "      <th>P</th>\n",
       "      <th>R</th>\n",
       "      <th>F1</th>\n",
       "    </tr>\n",
       "  </thead>\n",
       "  <tbody>\n",
       "    <tr>\n",
       "      <th>ELECTRA</th>\n",
       "      <td>0.68</td>\n",
       "      <td>0.62</td>\n",
       "      <td>0.90</td>\n",
       "      <td>0.73</td>\n",
       "      <td>0.69</td>\n",
       "      <td>0.63</td>\n",
       "      <td>0.86</td>\n",
       "      <td>0.73</td>\n",
       "      <td>0.71</td>\n",
       "      <td>0.67</td>\n",
       "      <td>...</td>\n",
       "      <td>0.95</td>\n",
       "      <td>0.84</td>\n",
       "      <td>0.82</td>\n",
       "      <td>0.90</td>\n",
       "      <td>0.76</td>\n",
       "      <td>0.82</td>\n",
       "      <td>0.83</td>\n",
       "      <td>0.89</td>\n",
       "      <td>0.79</td>\n",
       "      <td>0.84</td>\n",
       "    </tr>\n",
       "    <tr>\n",
       "      <th>RoBERTa</th>\n",
       "      <td>0.72</td>\n",
       "      <td>0.66</td>\n",
       "      <td>0.85</td>\n",
       "      <td>0.74</td>\n",
       "      <td>0.72</td>\n",
       "      <td>0.68</td>\n",
       "      <td>0.80</td>\n",
       "      <td>0.74</td>\n",
       "      <td>0.71</td>\n",
       "      <td>0.71</td>\n",
       "      <td>...</td>\n",
       "      <td>0.79</td>\n",
       "      <td>0.84</td>\n",
       "      <td>0.66</td>\n",
       "      <td>0.62</td>\n",
       "      <td>0.95</td>\n",
       "      <td>0.75</td>\n",
       "      <td>0.64</td>\n",
       "      <td>0.62</td>\n",
       "      <td>0.90</td>\n",
       "      <td>0.73</td>\n",
       "    </tr>\n",
       "    <tr>\n",
       "      <th>BERT</th>\n",
       "      <td>0.70</td>\n",
       "      <td>0.65</td>\n",
       "      <td>0.79</td>\n",
       "      <td>0.72</td>\n",
       "      <td>0.69</td>\n",
       "      <td>0.63</td>\n",
       "      <td>0.84</td>\n",
       "      <td>0.72</td>\n",
       "      <td>0.72</td>\n",
       "      <td>0.71</td>\n",
       "      <td>...</td>\n",
       "      <td>0.91</td>\n",
       "      <td>0.74</td>\n",
       "      <td>0.66</td>\n",
       "      <td>0.63</td>\n",
       "      <td>0.91</td>\n",
       "      <td>0.74</td>\n",
       "      <td>0.82</td>\n",
       "      <td>0.78</td>\n",
       "      <td>0.95</td>\n",
       "      <td>0.85</td>\n",
       "    </tr>\n",
       "    <tr>\n",
       "      <th>DistilBERT</th>\n",
       "      <td>0.72</td>\n",
       "      <td>0.66</td>\n",
       "      <td>0.88</td>\n",
       "      <td>0.76</td>\n",
       "      <td>0.71</td>\n",
       "      <td>0.64</td>\n",
       "      <td>0.91</td>\n",
       "      <td>0.75</td>\n",
       "      <td>0.71</td>\n",
       "      <td>0.68</td>\n",
       "      <td>...</td>\n",
       "      <td>0.77</td>\n",
       "      <td>0.84</td>\n",
       "      <td>0.83</td>\n",
       "      <td>0.88</td>\n",
       "      <td>0.80</td>\n",
       "      <td>0.84</td>\n",
       "      <td>0.82</td>\n",
       "      <td>0.85</td>\n",
       "      <td>0.82</td>\n",
       "      <td>0.83</td>\n",
       "    </tr>\n",
       "  </tbody>\n",
       "</table>\n",
       "<p>4 rows × 24 columns</p>\n",
       "</div>"
      ],
      "text/plain": [
       "component  evidence                   claim                   structure        \\\n",
       "metric            A     P     R    F1     A     P     R    F1         A     P   \n",
       "ELECTRA        0.68  0.62  0.90  0.73  0.69  0.63  0.86  0.73      0.71  0.67   \n",
       "RoBERTa        0.72  0.66  0.85  0.74  0.72  0.68  0.80  0.74      0.71  0.71   \n",
       "BERT           0.70  0.65  0.79  0.72  0.69  0.63  0.84  0.72      0.72  0.71   \n",
       "DistilBERT     0.72  0.66  0.88  0.76  0.71  0.64  0.91  0.75      0.71  0.68   \n",
       "\n",
       "component   ... evidence       claim                   structure              \\\n",
       "metric      ...        R    F1     A     P     R    F1         A     P     R   \n",
       "ELECTRA     ...     0.95  0.84  0.82  0.90  0.76  0.82      0.83  0.89  0.79   \n",
       "RoBERTa     ...     0.79  0.84  0.66  0.62  0.95  0.75      0.64  0.62  0.90   \n",
       "BERT        ...     0.91  0.74  0.66  0.63  0.91  0.74      0.82  0.78  0.95   \n",
       "DistilBERT  ...     0.77  0.84  0.83  0.88  0.80  0.84      0.82  0.85  0.82   \n",
       "\n",
       "component         \n",
       "metric        F1  \n",
       "ELECTRA     0.84  \n",
       "RoBERTa     0.73  \n",
       "BERT        0.85  \n",
       "DistilBERT  0.83  \n",
       "\n",
       "[4 rows x 24 columns]"
      ]
     },
     "metadata": {},
     "output_type": "display_data"
    },
    {
     "name": "stdout",
     "output_type": "stream",
     "text": [
      "\\begin{tabular}{lllllllllllllllllllllllll}\n",
      "\\toprule\n",
      "component & \\multicolumn{4}{r}{evidence} & \\multicolumn{4}{r}{claim} & \\multicolumn{4}{r}{structure} & \\multicolumn{4}{r}{evidence} & \\multicolumn{4}{r}{claim} & \\multicolumn{4}{r}{structure} \\\\\n",
      "metric & A & P & R & F1 & A & P & R & F1 & A & P & R & F1 & A & P & R & F1 & A & P & R & F1 & A & P & R & F1 \\\\\n",
      "\\midrule\n",
      "ELECTRA & 0.68 & 0.62 & 0.90 & 0.73 & 0.69 & 0.63 & 0.86 & 0.73 & 0.71 & 0.67 & 0.79 & 0.72 & 0.80 & 0.75 & 0.95 & 0.84 & 0.82 & 0.90 & 0.76 & 0.82 & 0.83 & 0.89 & 0.79 & 0.84 \\\\\n",
      "RoBERTa & 0.72 & 0.66 & 0.85 & 0.74 & 0.72 & 0.68 & 0.80 & 0.74 & 0.71 & 0.71 & 0.65 & 0.68 & 0.84 & 0.90 & 0.79 & 0.84 & 0.66 & 0.62 & 0.95 & 0.75 & 0.64 & 0.62 & 0.90 & 0.73 \\\\\n",
      "BERT & 0.70 & 0.65 & 0.79 & 0.72 & 0.69 & 0.63 & 0.84 & 0.72 & 0.72 & 0.71 & 0.69 & 0.70 & 0.66 & 0.63 & 0.91 & 0.74 & 0.66 & 0.63 & 0.91 & 0.74 & 0.82 & 0.78 & 0.95 & 0.85 \\\\\n",
      "DistilBERT & 0.72 & 0.66 & 0.88 & 0.76 & 0.71 & 0.64 & 0.91 & 0.75 & 0.71 & 0.68 & 0.77 & 0.72 & 0.84 & 0.92 & 0.77 & 0.84 & 0.83 & 0.88 & 0.80 & 0.84 & 0.82 & 0.85 & 0.82 & 0.83 \\\\\n",
      "\\bottomrule\n",
      "\\end{tabular}\n",
      "\n"
     ]
    }
   ],
   "source": [
    "combined = pd.concat([df_dolly, df_margot], axis=1)\n",
    "display(combined.head(5))\n",
    "print(combined.to_latex())"
   ]
  }
 ],
 "metadata": {
  "kernelspec": {
   "display_name": "Python 3",
   "language": "python",
   "name": "python3"
  },
  "language_info": {
   "codemirror_mode": {
    "name": "ipython",
    "version": 3
   },
   "file_extension": ".py",
   "mimetype": "text/x-python",
   "name": "python",
   "nbconvert_exporter": "python",
   "pygments_lexer": "ipython3",
   "version": "3.9.16"
  },
  "orig_nbformat": 4
 },
 "nbformat": 4,
 "nbformat_minor": 2
}
